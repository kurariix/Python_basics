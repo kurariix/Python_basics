{
 "cells": [
  {
   "cell_type": "code",
   "execution_count": null,
   "id": "18c0e103",
   "metadata": {},
   "outputs": [],
   "source": [
    "'''\n",
    "break: 반복문 전체를 즉시 중단 (비상 정지 버튼)\n",
    "    - 반복문 상태: 완전히 종료\n",
    "    -> 특정 조건 만족하면 나머지 반복은 할 필요가 없을 대 사용\n",
    "    ex) 리스트에서 원하는 값을 찾자마자 검색 중단\n",
    "    \n",
    "    \n",
    "continue: 현재 반복 중단 (특정 순서만 스킵)\n",
    "    - 반복문 상태: 다음 반복을 시작\n",
    "    -> 특정 조건을 만족하는 항목만 건너뛰고 나머지 항목에 대해서는 작업을 계속하고 싶을 때 사용\n",
    "    ex) 짝수만 건너뛰고 홀수만 처리\n",
    "'''"
   ]
  },
  {
   "cell_type": "code",
   "execution_count": 2,
   "id": "2d8d0c1e",
   "metadata": {},
   "outputs": [
    {
     "name": "stdout",
     "output_type": "stream",
     "text": [
      "현재 숫자: 1\n",
      "현재 숫자: 3\n",
      "현재 숫자: 5\n",
      "8을 찾았습니다! 반복 중단!\n",
      "반복문이 끝났습니다\n"
     ]
    }
   ],
   "source": [
    "# break 예시\n",
    "\n",
    "numbers = [1, 3, 5, 8, 10]\n",
    "\n",
    "for number in numbers:\n",
    "    if number == 8:\n",
    "        print(\"8을 찾았습니다! 반복 중단!\")\n",
    "        break # 반복문 즉시 종료\n",
    "    print(\"현재 숫자: {}\".format(number))\n",
    "\n",
    "print(\"반복문이 끝났습니다\")"
   ]
  },
  {
   "cell_type": "code",
   "execution_count": 3,
   "id": "302703a1",
   "metadata": {},
   "outputs": [
    {
     "name": "stdout",
     "output_type": "stream",
     "text": [
      "홀수 처리: 1\n",
      "숫자 2는 짝수, 건너뜁니다\n",
      "홀수 처리: 3\n",
      "숫자 4는 짝수, 건너뜁니다\n",
      "홀수 처리: 5\n"
     ]
    }
   ],
   "source": [
    "# continue 예시\n",
    "\n",
    "numbers = [1, 2, 3, 4, 5]\n",
    "\n",
    "for number in numbers:\n",
    "    if number % 2 == 0: # 숫자가 짝수라면\n",
    "        print(\"숫자 {}는 짝수, 건너뜁니다\".format(number))\n",
    "        continue # 이 아래 코드를 무시하고 다음 반복으로 이동\n",
    "\n",
    "    print(\"홀수 처리: {}\".format(number)) # continue를 만나지 않은 경우만 실행"
   ]
  },
  {
   "cell_type": "code",
   "execution_count": null,
   "id": "a1e65d28",
   "metadata": {},
   "outputs": [
    {
     "name": "stdout",
     "output_type": "stream",
     "text": [
      "== 8단 ==\n"
     ]
    }
   ],
   "source": [
    "for dan in range(1, 10):\n",
    "    if dan == 4:\n",
    "        continue # 이번턴은 스킵된다\n",
    "\n",
    "    if dan == 8:\n",
    "        break # 그 즉시 반복문을 탈출하게 된다 \n",
    "\n",
    "    print(\"== {}단 ==\".format(dan))"
   ]
  }
 ],
 "metadata": {
  "kernelspec": {
   "display_name": "Python 3",
   "language": "python",
   "name": "python3"
  },
  "language_info": {
   "codemirror_mode": {
    "name": "ipython",
    "version": 3
   },
   "file_extension": ".py",
   "mimetype": "text/x-python",
   "name": "python",
   "nbconvert_exporter": "python",
   "pygments_lexer": "ipython3",
   "version": "3.13.7"
  }
 },
 "nbformat": 4,
 "nbformat_minor": 5
}
