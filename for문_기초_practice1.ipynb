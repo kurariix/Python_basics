{
 "cells": [
  {
   "cell_type": "code",
   "execution_count": null,
   "id": "0e5b457e",
   "metadata": {},
   "outputs": [],
   "source": [
    "# 문제: for문으로 1부터 100까지 출력\n",
    "\n",
    "for i in range(1, 101):\n",
    "    print(i)"
   ]
  },
  {
   "cell_type": "code",
   "execution_count": null,
   "id": "1c69ed48",
   "metadata": {},
   "outputs": [],
   "source": [
    "# 문제: for문으로 100부터 1까지 출력 (역순)\n",
    "\n",
    "for i in range(100, 0, -1):\n",
    "    print(i)"
   ]
  },
  {
   "cell_type": "code",
   "execution_count": null,
   "id": "83c2e8c0",
   "metadata": {},
   "outputs": [],
   "source": [
    "# for문으로 1부터 100 사이의 짝수만 출력\n",
    "\n",
    "for i in range(1, 101):\n",
    "    if i % 2 == 0:\n",
    "        print(i)"
   ]
  },
  {
   "cell_type": "code",
   "execution_count": null,
   "id": "ed2ac9c0",
   "metadata": {},
   "outputs": [],
   "source": [
    "# 문제: for문으로 100부터 1 사이의 짝수만 출력\n",
    "\n",
    "for i in range(100, 0, -1):\n",
    "    if i % 2 == 0:\n",
    "        print(i)"
   ]
  },
  {
   "cell_type": "code",
   "execution_count": null,
   "id": "ba14084f",
   "metadata": {},
   "outputs": [],
   "source": [
    "# 문제: for문으로 구구단 8단 출력 (좀 더 간단)\n",
    "\n",
    "dan = 8\n",
    "for i in range(1, 10):\n",
    "    print(\"{} * {} = {}\".format(dan, i, dan * i))\n",
    "\n",
    "\n",
    "# while문으로 구구단 8단 출력\n",
    "\n",
    "dan = 8\n",
    "\n",
    "i = 1\n",
    "while i <= 9:\n",
    "    print(\"{} * {} = {}\".format(dan, i, dan * i))\n",
    "    i += 1\n"
   ]
  },
  {
   "cell_type": "code",
   "execution_count": null,
   "id": "c8370bc4",
   "metadata": {},
   "outputs": [],
   "source": [
    "# 문제: for문으로 구구단 1단 ~ 9단 출력 (다중 for문)\n",
    "\n",
    "for dan in range(1 , 10):\n",
    "    print(\"== {}단 ==\".format(dan))\n",
    "    for i in range(1, 10):\n",
    "        print(\"{} * {} = {}\".format(dan, i, dan * i))\n",
    "\n",
    "# while문으로 구구단 1단 ~ 9단 출력\n",
    "\n",
    "dan = 1\n",
    "while dan <= 9:\n",
    "    print(\"== {}단 ==\")\n",
    "    i = 1\n",
    "    while i <= 9:\n",
    "        print(\"{} * {} = {}\".format(dan, i, dan * i))\n",
    "        i += 1\n",
    "    dan += 1\n",
    "\n",
    "    "
   ]
  },
  {
   "cell_type": "code",
   "execution_count": null,
   "id": "d56ef8b3",
   "metadata": {},
   "outputs": [],
   "source": [
    "'''\n",
    "in 연산자\n",
    "- 어떤 값이나 요소가 특정한 컬렉션(집합) 안에 포합되어 있는지 확인할 때 사용\n",
    "- 포함되어 있으면 True, 그렇지 않으면 False 반환\n",
    "- 주로 if 조건문이나 for 반복문에서 사용\n",
    "'''"
   ]
  }
 ],
 "metadata": {
  "kernelspec": {
   "display_name": "Python 3",
   "language": "python",
   "name": "python3"
  },
  "language_info": {
   "codemirror_mode": {
    "name": "ipython",
    "version": 3
   },
   "file_extension": ".py",
   "mimetype": "text/x-python",
   "name": "python",
   "nbconvert_exporter": "python",
   "pygments_lexer": "ipython3",
   "version": "3.13.7"
  }
 },
 "nbformat": 4,
 "nbformat_minor": 5
}
