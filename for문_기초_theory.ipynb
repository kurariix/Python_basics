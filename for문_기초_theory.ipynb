{
 "cells": [
  {
   "cell_type": "code",
   "execution_count": null,
   "id": "7fe425ac",
   "metadata": {},
   "outputs": [],
   "source": [
    "'''\n",
    "반복문\n",
    " - while문\n",
    " - for문\n",
    "\n",
    "'''\n",
    "\n",
    "# while문으로 0 ~ 9\n",
    "i = 0\n",
    "while i < 10:\n",
    "    print(i)\n",
    "    i += 1\n",
    "\n",
    "\n",
    "# for문으로 0 ~ 9\n",
    "for i in range(10): \n",
    "    print(i)\n",
    "\n",
    "# range() 함수: (시작점, 끝점, 폭) -> 0부터 시작\n",
    "# 1. 시작점: 카운트를 시작할 숫자\n",
    "# 2. 끝점: 항상 그 숫자를 '포함하지 않고' 그 직전에서 멈춤 (미만의 원칙) -> 제외\n",
    "# 3. 폭: 증가/감소"
   ]
  },
  {
   "cell_type": "code",
   "execution_count": null,
   "id": "9fb04f7a",
   "metadata": {},
   "outputs": [
    {
     "name": "stdout",
     "output_type": "stream",
     "text": [
      "for문으로 0 ~ 9\n",
      "0\n",
      "1\n",
      "2\n",
      "3\n",
      "4\n",
      "5\n",
      "6\n",
      "7\n",
      "8\n",
      "9\n",
      "for문으로 1 ~ 9\n",
      "1\n",
      "2\n",
      "3\n",
      "4\n",
      "5\n",
      "6\n",
      "7\n",
      "8\n",
      "9\n",
      "for문으로 2부터 10까지 2씩 증가\n",
      "2\n",
      "4\n",
      "6\n",
      "8\n",
      "10\n"
     ]
    }
   ],
   "source": [
    "# range() 함수를 쓰는 3가지 방법\n",
    "\n",
    "# 1. 한 가지만 썼을 때 자동적으로 시작점이 0\n",
    "print(\"for문으로 0 ~ 9\")\n",
    "for i in range(10): # 숫자 전까지만 출력 \n",
    "    print(i)\n",
    "\n",
    "\n",
    "# 2. 시작점을 써주는 경우 range(시작점, 끝점)\n",
    "print(\"for문으로 1 ~ 9\")\n",
    "for i in range(1, 10):\n",
    "    print(i)\n",
    "\n",
    "\n",
    "# 3. 시작점, 끝점, 보폭을 써주는 경우 range(시작점, 끝점, 보폭)\n",
    "print(\"for문으로 2부터 10까지 2씩 증가\")\n",
    "for i in range(2, 11, 2): # 증가를 시키고싶다면 2\n",
    "    print(i)"
   ]
  },
  {
   "cell_type": "code",
   "execution_count": 4,
   "id": "20b9aea9",
   "metadata": {},
   "outputs": [
    {
     "name": "stdout",
     "output_type": "stream",
     "text": [
      "for문으로 10부터 1까지\n",
      "10\n",
      "9\n",
      "8\n",
      "7\n",
      "6\n",
      "5\n",
      "4\n",
      "3\n",
      "2\n",
      "1\n",
      "for문으로 10부터 2까지 2씩 감소\n",
      "10\n",
      "8\n",
      "6\n",
      "4\n",
      "2\n"
     ]
    }
   ],
   "source": [
    "# for문을 역순으로\n",
    "\n",
    "print(\"for문으로 10부터 1까지\")\n",
    "\n",
    "# 시작점: 10, 1이 나와야하므로 끝점은 0\n",
    "for i in range(10, 0, -1): # 감소를 시키고싶다면 -1\n",
    "    print(i)\n",
    "\n",
    "print(\"for문으로 10부터 2까지 2씩 감소\")\n",
    "for i in range(10, 0, -2):\n",
    "    print(i)"
   ]
  },
  {
   "cell_type": "code",
   "execution_count": null,
   "id": "b6632f34",
   "metadata": {},
   "outputs": [
    {
     "name": "stdout",
     "output_type": "stream",
     "text": [
      "리스트 a 세팅\n",
      "for, 리스트 모든 요소 출력\n",
      "10\n",
      "20\n",
      "30\n",
      "40\n",
      "for, 모든 리스트의 모든 요소 번호 출력\n",
      "0\n",
      "1\n",
      "2\n",
      "3\n",
      "for, 리스트의 오든 요소의 번호와 값 출력\n",
      "a[0] : 10\n",
      "a[1] : 20\n",
      "a[2] : 30\n",
      "a[3] : 40\n",
      "for, 리스트의 모든 요소의 번호를 역순으로 출력\n",
      "3\n",
      "2\n",
      "1\n",
      "0\n",
      "for, 리스트의 모든 요소의 번호와 값을 연순으로 출력\n",
      "a[3] : 40\n",
      "a[2] : 30\n",
      "a[1] : 20\n",
      "a[0] : 10\n"
     ]
    }
   ],
   "source": [
    "print(\"리스트 a 세팅\")\n",
    "a = [10, 20, 30, 40] # 인덱스 번호: 0, 1, 2, 3\n",
    "\n",
    "\n",
    "\n",
    "# 존재하는 리스트를 출력하는 방법\n",
    "print(\"for, 리스트 모든 요소 출력\")\n",
    "for v in a: # v: value의 약자(변수)\n",
    "    print(v)\n",
    "\n",
    "\n",
    "print(\"for, 모든 리스트의 모든 요소 번호 출력\")\n",
    "for v in range(len(a)): # 인덱스 값 추출 -> 4를 반환\n",
    "    print(v)\n",
    "\n",
    "\n",
    "# 리스트 안에 있는 어떤 요소를 꺼내오고 싶을 때, 인덱스 값 호출\n",
    "print(\"for, 리스트의 오든 요소의 번호와 값 출력\")\n",
    "for i in range(len(a)):\n",
    "    print(\"a[{}] : {}\".format(i, a[i]))\n",
    "\n",
    "\n",
    "print(\"for, 리스트의 모든 요소의 번호를 역순으로 출력\")\n",
    "for i in range(len(a) - 1, -1, -1): \n",
    "    print(i)\n",
    "\n",
    "print(\"for, 리스트의 모든 요소의 번호와 값을 연순으로 출력\")\n",
    "for i in range(len(a) - 1, -1, -1): # len(a) - 1 에서 - 1 띄어쓰기 조심\n",
    "    print(\"a[{}] : {}\".format(i, a[i]))"
   ]
  }
 ],
 "metadata": {
  "kernelspec": {
   "display_name": "Python 3",
   "language": "python",
   "name": "python3"
  },
  "language_info": {
   "codemirror_mode": {
    "name": "ipython",
    "version": 3
   },
   "file_extension": ".py",
   "mimetype": "text/x-python",
   "name": "python",
   "nbconvert_exporter": "python",
   "pygments_lexer": "ipython3",
   "version": "3.13.7"
  }
 },
 "nbformat": 4,
 "nbformat_minor": 5
}
