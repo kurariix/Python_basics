{
 "cells": [
  {
   "cell_type": "code",
   "execution_count": 3,
   "id": "3f8afcf2",
   "metadata": {},
   "outputs": [
    {
     "name": "stdout",
     "output_type": "stream",
     "text": [
      "1부터 10사이에 존재하는 모든 소수의 합: 17\n",
      "1부터 100사이에 존재하는 모든 소수의 합: 1060\n",
      "1부터 1000사이에 존재하는 모든 소수의 합: 76127\n"
     ]
    }
   ],
   "source": [
    "# 문제: for문으로 1부터 n 사이에 존재하는 소수의 합을 반환하는 함수 구현\n",
    "\n",
    "# 소수판별함수 구현\n",
    "def is_prime_number(number):\n",
    "    if number <= 1:\n",
    "        return False\n",
    "    \n",
    "    for i in range(2, number):\n",
    "        if number % i == 0:\n",
    "            return False\n",
    "        \n",
    "    return True\n",
    "\n",
    "\n",
    "# 1부터 n까지 사이의 모든 소수의 합을 반환하는 함수 구현\n",
    "def get_1_to_n_prime_sum(n):\n",
    "    sum = 0\n",
    "    for i in range(1, n + 1):\n",
    "        if is_prime_number(i):\n",
    "            sum += i\n",
    "    return sum # 총합을 리턴해야해서 깔아놓음\n",
    "\n",
    "\n",
    "# 함수 사용\n",
    "n = 10\n",
    "print(\"1부터 {}사이에 존재하는 모든 소수의 합: {}\".format(n, get_1_to_n_prime_sum(n)))\n",
    "\n",
    "n = 100\n",
    "print(\"1부터 {}사이에 존재하는 모든 소수의 합: {}\".format(n, get_1_to_n_prime_sum(n)))\n",
    "\n",
    "n = 1000\n",
    "print(\"1부터 {}사이에 존재하는 모든 소수의 합: {}\".format(n, get_1_to_n_prime_sum(n)))"
   ]
  },
  {
   "cell_type": "code",
   "execution_count": 3,
   "id": "7ae63c8d",
   "metadata": {},
   "outputs": [
    {
     "name": "stdout",
     "output_type": "stream",
     "text": [
      "1부터 10사이에 존재하는 모든 소수의 합: 17\n",
      "1부터 100사이에 존재하는 모든 소수의 합: 1060\n",
      "1부터 1000사이에 존재하는 모든 소수의 합: 76127\n"
     ]
    }
   ],
   "source": [
    "# 문제: for문으로 1부터 n 사이에 존재하는 소수의 합을 반환하는 함수 구현\n",
    "\n",
    "def is_prime_number(number):\n",
    "    \n",
    "    if number == 1:\n",
    "        return False\n",
    "\n",
    "    for i in range(2, number):\n",
    "        if number % i == 0:\n",
    "            return False\n",
    "\n",
    "    return True \n",
    "\n",
    "\n",
    "def get_1_to_n_prime_sum(n):\n",
    "    sum = 0\n",
    "    for i in range(1, n + 1):\n",
    "        if is_prime_number(i):\n",
    "            sum += i\n",
    "    return sum \n",
    "\n",
    "# 함수 사용\n",
    "n = 10\n",
    "print(\"1부터 {}사이에 존재하는 모든 소수의 합: {}\".format(n, get_1_to_n_prime_sum(n)))\n",
    "\n",
    "n = 100\n",
    "print(\"1부터 {}사이에 존재하는 모든 소수의 합: {}\".format(n, get_1_to_n_prime_sum(n)))\n",
    "\n",
    "n = 1000\n",
    "print(\"1부터 {}사이에 존재하는 모든 소수의 합: {}\".format(n, get_1_to_n_prime_sum(n)))\n"
   ]
  }
 ],
 "metadata": {
  "kernelspec": {
   "display_name": "Python 3",
   "language": "python",
   "name": "python3"
  },
  "language_info": {
   "codemirror_mode": {
    "name": "ipython",
    "version": 3
   },
   "file_extension": ".py",
   "mimetype": "text/x-python",
   "name": "python",
   "nbconvert_exporter": "python",
   "pygments_lexer": "ipython3",
   "version": "3.13.7"
  }
 },
 "nbformat": 4,
 "nbformat_minor": 5
}
