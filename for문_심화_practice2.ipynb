{
 "cells": [
  {
   "cell_type": "code",
   "execution_count": null,
   "id": "04bce510",
   "metadata": {},
   "outputs": [
    {
     "name": "stdout",
     "output_type": "stream",
     "text": [
      "2\n",
      "1\n",
      "1\n",
      "6\n",
      "7\n"
     ]
    }
   ],
   "source": [
    "# 리스트에 2, 1, 5, 6, 7를 담고, for문으로 요소 전부 출력\n",
    "\n",
    "list1 = [2, 1, 5, 6, 7]\n",
    "\n",
    "for v in list1:\n",
    "    print(v)"
   ]
  },
  {
   "cell_type": "code",
   "execution_count": null,
   "id": "2bd3fc8b",
   "metadata": {},
   "outputs": [
    {
     "name": "stdout",
     "output_type": "stream",
     "text": [
      "2\n",
      "1\n",
      "5\n",
      "6\n",
      "7\n"
     ]
    }
   ],
   "source": [
    "# 문제: 리스트에 2, 1, 5, 6, 7를 담고, for문으로 요소를 전부 출력\n",
    "# 조건: len() 함수 사용\n",
    "\n",
    "list1 = [2, 1, 5, 6, 7]\n",
    "\n",
    "for v in range(len(list1)): \n",
    "    print(list1[v]) # v = 인덱스 번호"
   ]
  },
  {
   "cell_type": "code",
   "execution_count": 10,
   "id": "2eef8625",
   "metadata": {},
   "outputs": [
    {
     "name": "stdout",
     "output_type": "stream",
     "text": [
      "7\n",
      "6\n",
      "5\n",
      "1\n",
      "2\n"
     ]
    }
   ],
   "source": [
    "# 문제: 리스트에 2, 1, 4, 6, 7를 담고, for문으로 요소들을 역순으로 출력\n",
    "# 조건: len() 함수 사용\n",
    "\n",
    "list1 = [2, 1, 5, 6, 7]\n",
    "\n",
    "for v in range(len(list1) - 1, -1, -1): \n",
    "    print(list1[v])"
   ]
  },
  {
   "cell_type": "code",
   "execution_count": null,
   "id": "b2fa2ad4",
   "metadata": {},
   "outputs": [
    {
     "name": "stdout",
     "output_type": "stream",
     "text": [
      "1월은 31일까지\n",
      "2월은 28일까지\n",
      "3월은 31일까지\n",
      "4월은 30일까지\n",
      "5월은 31일까지\n",
      "6월은 30일까지\n",
      "7월은 31일까지\n",
      "8월은 31일까지\n",
      "9월은 30일까지\n",
      "10월은 31일까지\n",
      "11월은 30일까지\n",
      "12월은 31일까지\n"
     ]
    }
   ],
   "source": [
    "# 문제: 리스트에 각 달의 끝 날짜들을 담고, '1월은 31일까지'와 같은 양식으로 출력\n",
    "\n",
    "end_days = [31, 28, 31, 30, 31, 30, 31, 31, 30, 31, 30, 31]\n",
    "current_month = 1 # 현재 월\n",
    "\n",
    "for m in end_days:\n",
    "    print(\"{}월은 {}일까지\".format(current_month, m))\n",
    "    current_month += 1 # 월 증가\n"
   ]
  },
  {
   "cell_type": "code",
   "execution_count": null,
   "id": "38d79677",
   "metadata": {},
   "outputs": [
    {
     "name": "stdout",
     "output_type": "stream",
     "text": [
      "1월은 31일까지\n",
      "2월은 28일까지\n",
      "3월은 31일까지\n",
      "4월은 30일까지\n",
      "5월은 31일까지\n",
      "6월은 30일까지\n",
      "7월은 31일까지\n",
      "8월은 31일까지\n",
      "9월은 30일까지\n",
      "10월은 31일까지\n",
      "11월은 30일까지\n",
      "12월은 31일까지\n"
     ]
    }
   ],
   "source": [
    "# 문제: 리스트에 각 달의 끝 날짜들을 담고, '1월은 31일까지'와 같은 양식으로 출력\n",
    "# 조건: len() 함수 사용\n",
    "\n",
    "end_days = [31, 28, 31, 30, 31, 30, 31, 31, 30, 31, 30, 31]\n",
    "\n",
    "for mon in range(len(end_days)):\n",
    "    print(\"{}월은 {}일까지\".format(mon + 1, end_days[mon]))"
   ]
  },
  {
   "cell_type": "code",
   "execution_count": null,
   "id": "f69de204",
   "metadata": {},
   "outputs": [],
   "source": [
    "# enumerate(): for 루프를 돌릴 때, 인덱스(Index) 값이랑 요소(Velue) 값 함께 가져올 수 있는 함수\n",
    "'''\n",
    "enumerate(리스트 등의 객체 이름, 인덱스를 시작할 번호 -> 기본값 0)\n",
    "\n",
    "for 인덱스_변수, 값_변수 in enumerate(반복_가능한_객체):\n",
    "    # 인덱스_변수 = 0, 1, 2, ...\n",
    "    # 값_변수 = 리스트의 요소\n",
    "    print(\"인덱스: {}, 값: {}\")\n",
    "\n",
    "'''"
   ]
  },
  {
   "cell_type": "code",
   "execution_count": null,
   "id": "558d1f3b",
   "metadata": {},
   "outputs": [
    {
     "name": "stdout",
     "output_type": "stream",
     "text": [
      "1월은 31일까지\n",
      "2월은 28일까지\n",
      "3월은 31일까지\n",
      "4월은 30일까지\n",
      "5월은 31일까지\n",
      "6월은 30일까지\n",
      "7월은 31일까지\n",
      "8월은 31일까지\n",
      "9월은 30일까지\n",
      "10월은 31일까지\n",
      "11월은 30일까지\n",
      "12월은 31일까지\n"
     ]
    }
   ],
   "source": [
    "# 문제: 리스트에 각 달의 끝 날짜들을 담고, '1월은 31일까지'와 같은 양식으로 출력\n",
    "# 조건: enumerate() 사용\n",
    "\n",
    "end_days = [31, 28, 31, 30, 31, 30, 31, 31, 30, 31, 30, 31] \n",
    "# 각각의 데이터가 인덱스 번호를 갖고 있음 -> 인덱스 번호까지 총 24개\n",
    "\n",
    "for i, end_day in enumerate(end_days): # 인덱스 번호와 벨류값을 한번에 얻을 수 있다\n",
    "    print(\"{}월은 {}일까지\".format(i + 1, end_day))\n"
   ]
  }
 ],
 "metadata": {
  "kernelspec": {
   "display_name": "Python 3",
   "language": "python",
   "name": "python3"
  },
  "language_info": {
   "codemirror_mode": {
    "name": "ipython",
    "version": 3
   },
   "file_extension": ".py",
   "mimetype": "text/x-python",
   "name": "python",
   "nbconvert_exporter": "python",
   "pygments_lexer": "ipython3",
   "version": "3.13.7"
  }
 },
 "nbformat": 4,
 "nbformat_minor": 5
}
