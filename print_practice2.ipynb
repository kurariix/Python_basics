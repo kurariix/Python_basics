{
 "cells": [
  {
   "cell_type": "code",
   "execution_count": 1,
   "id": "3ca2f84e",
   "metadata": {},
   "outputs": [
    {
     "name": "stdout",
     "output_type": "stream",
     "text": [
      "안녕하세요 \n",
      "안녕하세요 \n",
      "안녕하세요 \n",
      "안녕하세요 \n",
      "안녕하세요 \n",
      "안녕하세요 \n",
      "안녕하세요 \n",
      "안녕하세요 \n",
      "안녕하세요 \n",
      "안녕하세요 \n",
      "\n"
     ]
    }
   ],
   "source": [
    "# 문제: 안녕하세요 10번 출력, 역슬래쉬 활용 (개념: print, 문장 곱하기, 뉴라인)\n",
    "print(\"안녕하세요 \\n\" * 10)"
   ]
  },
  {
   "cell_type": "code",
   "execution_count": null,
   "id": "f6ed1d64",
   "metadata": {},
   "outputs": [],
   "source": [
    "# 이스케이프 문자\n",
    "\n",
    "# 1. Line Feed(LF 줄바꿈 문자): \\n\n",
    "print(\"Hello, \\nworld!\")\n",
    "\n",
    "# 2. Carrage Return(CR 커서를 처음으로 돌리는 문자): \\r\n",
    "print(\"Hello, \\rworld!\")\n",
    "\n",
    "# 3. Backspace(커서를 뒤로 한 칸 이동시키는 문자): \\b\n",
    "print(\"Hello, \\b\\b\\bwolrd!\")\n",
    "\n",
    "# 4. Tab(탭 공간을 추가시키는 문자): \\t\n",
    "print(\"Hello, \\tworld!\")\n",
    "\n",
    "# 5. Form Feed: \\f\n",
    "print(\"Hello, \\fworld\")\n",
    "\n",
    "# 6. Single Quote('문자를 출력시키는 문자): \\'\n",
    "print('\\'')\n",
    "\n",
    "# 7. Double Qoute(\"문자를 출력시키는 문자): \\\"\n",
    "print(\"Hello,\\\"w\\\"orld!\")\n",
    "\n",
    "# 8. Backslash(\\문자를 출력시키는 문자): \\\\\n",
    "print(\"c:\\\\Users\\\\user\\\\git\")\n",
    "\n"
   ]
  }
 ],
 "metadata": {
  "kernelspec": {
   "display_name": "Python 3",
   "language": "python",
   "name": "python3"
  },
  "language_info": {
   "codemirror_mode": {
    "name": "ipython",
    "version": 3
   },
   "file_extension": ".py",
   "mimetype": "text/x-python",
   "name": "python",
   "nbconvert_exporter": "python",
   "pygments_lexer": "ipython3",
   "version": "3.13.7"
  }
 },
 "nbformat": 4,
 "nbformat_minor": 5
}
