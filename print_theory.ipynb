{
 "cells": [
  {
   "cell_type": "code",
   "execution_count": null,
   "id": "6ca6038e",
   "metadata": {},
   "outputs": [
    {
     "name": "stdout",
     "output_type": "stream",
     "text": [
      "안녕하세요\n"
     ]
    }
   ],
   "source": [
    "# 출력함수 print()\n",
    "\n",
    "# 안녕하세요 출력\n",
    "print(\"안녕하세요\")"
   ]
  },
  {
   "cell_type": "code",
   "execution_count": null,
   "id": "33d18d4e",
   "metadata": {},
   "outputs": [
    {
     "name": "stdout",
     "output_type": "stream",
     "text": [
      "안녕하세요\n",
      "20\n"
     ]
    }
   ],
   "source": [
    "# 규칙 : 소괄호 무조건 지키기!\n",
    "\n",
    "# 문장: \"\", ''\n",
    "print(\"안녕하세요\")\n",
    "\n",
    "# 숫자: 그냥 쓰는게 가능\n",
    "print(10 + 10)"
   ]
  },
  {
   "cell_type": "code",
   "execution_count": 5,
   "id": "fbae15b7",
   "metadata": {},
   "outputs": [
    {
     "name": "stdout",
     "output_type": "stream",
     "text": [
      "안녕하세요\n",
      "안녕하세요\n",
      "안녕하세요\n",
      "안녕하세요\n",
      "안녕하세요\n",
      "안녕하세요\n",
      "안녕하세요\n",
      "안녕하세요\n",
      "안녕하세요\n",
      "안녕하세요\n"
     ]
    }
   ],
   "source": [
    "# 안녕하세요 10번 출력 \n",
    "print(\"안녕하세요\")\n",
    "print(\"안녕하세요\")\n",
    "print(\"안녕하세요\")\n",
    "print(\"안녕하세요\")\n",
    "print(\"안녕하세요\")\n",
    "print(\"안녕하세요\")\n",
    "print(\"안녕하세요\")\n",
    "print(\"안녕하세요\")\n",
    "print(\"안녕하세요\")\n",
    "print(\"안녕하세요\")"
   ]
  },
  {
   "cell_type": "code",
   "execution_count": null,
   "id": "fdb03c14",
   "metadata": {},
   "outputs": [],
   "source": [
    "'''\n",
    "format() 함수\n",
    ": 문자열 내부에 표시할 데이터를 깔끔하게 통합할 떼 시용\n",
    "\"문자열 {} 템플릿 {}\".format(값1, 값2)\n",
    "'''"
   ]
  },
  {
   "cell_type": "code",
   "execution_count": null,
   "id": "30d692de",
   "metadata": {},
   "outputs": [],
   "source": [
    "# 한줄 주석\n",
    "\n",
    "'''\n",
    "\n",
    "여러 줄 주석\n",
    "\n",
    "'''"
   ]
  }
 ],
 "metadata": {
  "kernelspec": {
   "display_name": "Python 3",
   "language": "python",
   "name": "python3"
  },
  "language_info": {
   "codemirror_mode": {
    "name": "ipython",
    "version": 3
   },
   "file_extension": ".py",
   "mimetype": "text/x-python",
   "name": "python",
   "nbconvert_exporter": "python",
   "pygments_lexer": "ipython3",
   "version": "3.13.7"
  }
 },
 "nbformat": 4,
 "nbformat_minor": 5
}
