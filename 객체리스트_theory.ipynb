{
 "cells": [
  {
   "cell_type": "code",
   "execution_count": null,
   "id": "c2e4e15b",
   "metadata": {},
   "outputs": [],
   "source": [
    "'''\n",
    "파이썬\n",
    "- 변수\n",
    "- 조건문\n",
    " - if, elif, else\n",
    "- 반복문\n",
    " - while\n",
    "- 함수\n",
    " - 종류\n",
    " - 내장함수: print(), int(), float(), format()\n",
    " - 사용자 정의함수: def로 생성\n",
    " - 지역변수\n",
    " - 전역변수\n",
    " - 매개변수 (데이터 투입구)\n",
    " - 리턴 (데이터 배출구)\n",
    "'''\n",
    "\n",
    "'''\n",
    "k = 10  # 'k'는 전역변수 -> 어디서든 쓸 수 있음\n",
    "\n",
    "def hello(a, b)\n",
    "    i = 20 # 'i'는 지역변수 -> 이 안에서만 사용할 수 있음\n",
    "    return a + b\n",
    "'''"
   ]
  },
  {
   "cell_type": "code",
   "execution_count": null,
   "id": "986c3b1a",
   "metadata": {},
   "outputs": [],
   "source": [
    "# 객체: 관련된 데이터를 묶으려는 용도로 씀\n",
    "# 리스트: 객체의 일종\n",
    "\n",
    "'''\n",
    "객체 -> 폴더\n",
    "리스트: 객체의 일종 []\n",
    "변수에는 값을 오직 하나만 넣을 수 있다\n",
    "실제 객체가 변수에 들어가진 않는다 (핵심!)\n",
    "-> 객체는 너무나 크고 변수는 너무나 작기에 안에 못들어가 파이썬이 리모컨을 넘겨줌\n",
    "\n",
    "ex)\n",
    "ages = 10\n",
    "ages = 20\n",
    "ages = 30\n",
    "\n",
    "못들어가기 때문에 파이썬에서는 연결만 시켜줄 수 있도록 리모컨을 넣어줌\n",
    "ages = [10, 20, 30] # 객체가 들어가 있지않다 -> 리모컨으로 객체 조종 가능\n",
    "-> 객체 하나, 안데 파일은 세 개, 그렇지만 여기에 들어간건 아니다\n",
    "\n",
    "'''"
   ]
  },
  {
   "cell_type": "code",
   "execution_count": null,
   "id": "14d02f07",
   "metadata": {},
   "outputs": [],
   "source": [
    "# len() 함수: 객체의 길이 또는 요소의 개수를 알려주는 함수\n",
    "'''\n",
    "len(객체): 객체가 가지고 있는 아이템의 총 개수를 정수로 반환\n",
    "'''"
   ]
  },
  {
   "cell_type": "code",
   "execution_count": null,
   "id": "0ff54beb",
   "metadata": {},
   "outputs": [],
   "source": [
    "ages1 = [] # 빈 객체 생성\n",
    "ages2 = []\n",
    "ages3 = []\n",
    "\n",
    "# 여기까지 객체는 3개 "
   ]
  },
  {
   "cell_type": "code",
   "execution_count": null,
   "id": "4cf82ab6",
   "metadata": {},
   "outputs": [],
   "source": [
    "ages1 = [] # 빈 객체 들어감\n",
    "ages2 = ages1 # 이 안에는 '리모컨'이 들어있다 -> ages2에도 위 객체의 리모컨을 넣어줌\n",
    "\n",
    "# 여기까지 객체는 1개 "
   ]
  },
  {
   "cell_type": "code",
   "execution_count": 3,
   "id": "9394fecf",
   "metadata": {},
   "outputs": [
    {
     "name": "stdout",
     "output_type": "stream",
     "text": [
      "ages1: [10, 20]\n",
      "ages2: [10, 20]\n",
      "[10, 20]\n"
     ]
    }
   ],
   "source": [
    "# TV로 비유\n",
    "ages1 = []\n",
    "ages2 = ages1 # ages1(리모컨), 사람은 2명\n",
    "ages3 = ages1\n",
    "\n",
    "ages1.append(10) # 객체에 값을 추가 -> ages1에서 채널 10번 으로 돌림\n",
    "ages2.append(20) # ages2에서 채널 20번으로 돌림\n",
    "\n",
    "print(\"ages1: {}\".format(ages1))\n",
    "print(\"ages2: {}\".format(ages2))\n",
    "\n",
    "print(ages3)"
   ]
  },
  {
   "cell_type": "code",
   "execution_count": null,
   "id": "13eb21e5",
   "metadata": {},
   "outputs": [],
   "source": [
    "# 정리\n",
    "'''\n",
    "객체를 쓰는 이유: 관련된 데이터를 묶으려고\n",
    "리스트: 객체의 일종\n",
    "변수 안에는 객체가 안들어간다\n",
    "-> 변수 특성상 값은 무조건 한개만 넣을 수 있음 (변수는 되게 작음)\n",
    "파이썬에서는 객체를 외부에다 둠 (객체는 매우 큼)\n",
    "-> 대신 변수가 조종 가능하게끔 리모컨을 넣어줌 (원격 조종)\n",
    "'''"
   ]
  }
 ],
 "metadata": {
  "kernelspec": {
   "display_name": "Python 3",
   "language": "python",
   "name": "python3"
  },
  "language_info": {
   "codemirror_mode": {
    "name": "ipython",
    "version": 3
   },
   "file_extension": ".py",
   "mimetype": "text/x-python",
   "name": "python",
   "nbconvert_exporter": "python",
   "pygments_lexer": "ipython3",
   "version": "3.13.7"
  }
 },
 "nbformat": 4,
 "nbformat_minor": 5
}
