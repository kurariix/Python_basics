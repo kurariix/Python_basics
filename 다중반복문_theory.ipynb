{
 "cells": [
  {
   "cell_type": "code",
   "execution_count": null,
   "id": "4cb2d0a0",
   "metadata": {},
   "outputs": [],
   "source": [
    "# 1 ~ 3 * 10\n",
    "\n",
    "i = 1\n",
    "while i <= 10:\n",
    "    print(1)        # 여기마저도 반복문으로 처리가능! (j)\n",
    "    print(2)\n",
    "    print(3)\n",
    "    print('----')\n",
    "    i += 1\n",
    "\n"
   ]
  },
  {
   "cell_type": "code",
   "execution_count": null,
   "id": "b45f0e60",
   "metadata": {},
   "outputs": [],
   "source": [
    "# j 부분\n",
    "j = 1\n",
    "while j <= 3:\n",
    "    print(j)\n",
    "    j += 1"
   ]
  },
  {
   "cell_type": "code",
   "execution_count": 1,
   "id": "b43fa265",
   "metadata": {},
   "outputs": [
    {
     "name": "stdout",
     "output_type": "stream",
     "text": [
      "1\n",
      "2\n",
      "3\n",
      "----\n",
      "1\n",
      "2\n",
      "3\n",
      "----\n",
      "1\n",
      "2\n",
      "3\n",
      "----\n",
      "1\n",
      "2\n",
      "3\n",
      "----\n",
      "1\n",
      "2\n",
      "3\n",
      "----\n",
      "1\n",
      "2\n",
      "3\n",
      "----\n",
      "1\n",
      "2\n",
      "3\n",
      "----\n",
      "1\n",
      "2\n",
      "3\n",
      "----\n",
      "1\n",
      "2\n",
      "3\n",
      "----\n",
      "1\n",
      "2\n",
      "3\n",
      "----\n"
     ]
    }
   ],
   "source": [
    "# 최종형태 \n",
    "\n",
    "\n",
    "i = 1\n",
    "while i <= 10:  # 여기 크게 1번 돈다\n",
    "    j = 1\n",
    "    while j <= 3:   # 줄바꿈 신경쓰기   여기 작게 3번돌때\n",
    "        print(j)\n",
    "        j += 1\n",
    "    print('----')\n",
    "    i += 1"
   ]
  }
 ],
 "metadata": {
  "kernelspec": {
   "display_name": "Python 3",
   "language": "python",
   "name": "python3"
  },
  "language_info": {
   "codemirror_mode": {
    "name": "ipython",
    "version": 3
   },
   "file_extension": ".py",
   "mimetype": "text/x-python",
   "name": "python",
   "nbconvert_exporter": "python",
   "pygments_lexer": "ipython3",
   "version": "3.13.7"
  }
 },
 "nbformat": 4,
 "nbformat_minor": 5
}
