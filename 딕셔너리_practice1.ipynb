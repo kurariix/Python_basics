{
 "cells": [
  {
   "cell_type": "code",
   "execution_count": null,
   "id": "5d2812a3",
   "metadata": {},
   "outputs": [
    {
     "name": "stdout",
     "output_type": "stream",
     "text": [
      "{'1월': 31, '2월': 28, '3월': 30}\n"
     ]
    }
   ],
   "source": [
    "# 문제: 딕셔너리에 각 달의 마지막 날들을 한 번에 담기\n",
    "# 조건: 1월 ~ 3월까지\n",
    "# 조건: 2월의 마지막은 28일로 함\n",
    "# 첫 데이터의 key는 \"1월\", value는 31\n",
    "\n",
    "month_end_days = {} # 빈 딕셔너리 생성\n",
    "\n",
    "month_end_days[\"1월\"] = 31 # 키-값 넣기\n",
    "month_end_days[\"2월\"] = 28\n",
    "month_end_days[\"3월\"] = 30\n",
    "\n",
    "print(month_end_days) # 출력"
   ]
  },
  {
   "cell_type": "code",
   "execution_count": null,
   "id": "edf03827",
   "metadata": {},
   "outputs": [
    {
     "name": "stdout",
     "output_type": "stream",
     "text": [
      "== 정답 v1==\n",
      "{'1월': 31, '2월': 28, '3월': 31, '4월': 30, '5월': 31, '6월': 30, '7월': 31, '8월': 31, '9월': 30, '10월': 31, '11월': 30, '12월': 31}\n",
      "== 정답 v2 ==\n",
      "{'1월': 31, '2월': 28, '3월': 31, '4월': 30, '5월': 31, '6월': 30, '7월': 31, '8월': 31, '9월': 30, '10월': 31, '11월': 30, '12월': 31}\n"
     ]
    }
   ],
   "source": [
    "# 딕셔너리에 각 달의 마지막 날들을 반복문을 통해 담기\n",
    "\n",
    "print(\"== 정답 v1==\") # for, if, elif문 이용\n",
    "\n",
    "month_end_days = {} # 빈 딕셔너리 생성\n",
    "\n",
    "for i in range(1, 12 + 1): # 1월 ~ 12월\n",
    "    month = str(i) + \"월\" # 서로 다른 타입은 더하기 안됨. 형 변환\n",
    "\n",
    "    end_day = 31  # 마지막 날 변수\n",
    "    if i == 2: # 2월\n",
    "        end_day = 28 \n",
    "    elif i in [4, 6, 9, 11]: # 4, 6, 9, 11월\n",
    "        end_day = 30\n",
    "    \n",
    "    month_end_days[month] = end_day # 빈 딕셔너리에 키-값 넣어줌\n",
    "print(month_end_days)\n",
    "    \n",
    "print(\"== 정답 v2 ==\") # 리스트 이용\n",
    "\n",
    "month_end_days_list_ver = [31, 28, 31, 30, 31, 30, 31, 31, 30, 31, 30, 31] # 마지막 날 리스트\n",
    "month_end_days1 = {} # 빈 딕셔너리 생성\n",
    "\n",
    "for i, end_day in enumerate(month_end_days_list_ver): # enumerate()로 인덱스, 값 모두 가져오기\n",
    "    month = str(i + 1) + \"월\" # 리스트의 인덱스는 0번부터 시작이기 때문에 + 1 (i = 0 ~ 11)\n",
    "    month_end_days1[month] = end_day\n",
    "\n",
    "print(month_end_days1)"
   ]
  }
 ],
 "metadata": {
  "kernelspec": {
   "display_name": "Python 3",
   "language": "python",
   "name": "python3"
  },
  "language_info": {
   "codemirror_mode": {
    "name": "ipython",
    "version": 3
   },
   "file_extension": ".py",
   "mimetype": "text/x-python",
   "name": "python",
   "nbconvert_exporter": "python",
   "pygments_lexer": "ipython3",
   "version": "3.13.7"
  }
 },
 "nbformat": 4,
 "nbformat_minor": 5
}
