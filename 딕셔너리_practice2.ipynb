{
 "cells": [
  {
   "cell_type": "code",
   "execution_count": null,
   "id": "77e7c829",
   "metadata": {},
   "outputs": [],
   "source": [
    "'''\n",
    "순회출력\n",
    " - 리스트나 딕셔너리에서 안에 있는 요소를 처음부터 끝까지 접근해서 출력하는 것\n",
    " -> 처음부터 끝까지 출력하는 것\n",
    "'''"
   ]
  },
  {
   "cell_type": "code",
   "execution_count": 2,
   "id": "31618803",
   "metadata": {},
   "outputs": [
    {
     "name": "stdout",
     "output_type": "stream",
     "text": [
      "31\n",
      "28\n",
      "30\n"
     ]
    }
   ],
   "source": [
    "# 문제: 딕셔너리에서 각 달의 마지막 날들을 한 번에 담고, 수작업으로 순회 출력\n",
    "\n",
    "month_end_days = {}\n",
    "\n",
    "month_end_days[\"1월\"] = 31\n",
    "month_end_days[\"2월\"] = 28\n",
    "month_end_days[\"3월\"] = 30\n",
    "\n",
    "print(month_end_days[\"1월\"]) # 순회 출력\n",
    "print(month_end_days[\"2월\"])\n",
    "print(month_end_days[\"3월\"])"
   ]
  },
  {
   "cell_type": "code",
   "execution_count": null,
   "id": "14586232",
   "metadata": {},
   "outputs": [
    {
     "name": "stdout",
     "output_type": "stream",
     "text": [
      "1월\n",
      "2월\n",
      "3월\n"
     ]
    }
   ],
   "source": [
    "# 문제: 딕셔너리에서 각 달의 마지막 날들을 한 번에 담으세요\n",
    "# 조건: keys()로 key 순회 출력\n",
    "\n",
    "month_end_days = {}\n",
    "\n",
    "\n",
    "month_end_days[\"1월\"] = 31  # \"1월\" - key\n",
    "month_end_days[\"2월\"] = 28\n",
    "month_end_days[\"3월\"] = 30\n",
    "\n",
    "print(month_end_days.keys()) # key들로만 이루어진 리스트 출력\n",
    "for key in month_end_days.keys():\n",
    "    print(key) # key만 따로 출력\n"
   ]
  },
  {
   "cell_type": "code",
   "execution_count": null,
   "id": "4e51b335",
   "metadata": {},
   "outputs": [
    {
     "name": "stdout",
     "output_type": "stream",
     "text": [
      "1월은31까지\n",
      "2월은28까지\n",
      "3월은30까지\n"
     ]
    }
   ],
   "source": [
    "# 문제: 딕셔너리에서 각 달의 마지막 날들을 한 번에 담으세요\n",
    "# 조건: keys()로 key, value 순회 출력\n",
    "\n",
    "month_end_days = {}\n",
    "\n",
    "month_end_days[\"1월\"] = 31 # 딕셔너리에 키-값 생성\n",
    "month_end_days[\"2월\"] = 28\n",
    "month_end_days[\"3월\"] = 30\n",
    "\n",
    "for month in month_end_days.keys(): # 키 값 들을 month에\n",
    "    end_day = month_end_days[month] # 반복문을 통해 값(마지막 날)들을 end_day에 \n",
    "    print(month + \"은 \" + str(end_day) + \"까지\") # 더하기 연산자를 사용하려면 end_day를 문자열로 변환\n"
   ]
  },
  {
   "cell_type": "code",
   "execution_count": 11,
   "id": "6f882f8c",
   "metadata": {},
   "outputs": [
    {
     "name": "stdout",
     "output_type": "stream",
     "text": [
      "dict_values([31, 28, 30])\n",
      "31\n",
      "28\n",
      "30\n"
     ]
    }
   ],
   "source": [
    "# 문제: 딕셔너리에서 각 달의 마지막 날들을 한 번에 담으세요\n",
    "# 조건: values()로 value 순회 출력\n",
    "\n",
    "month_end_days = {}\n",
    "\n",
    "month_end_days[\"1월\"] = 31\n",
    "month_end_days[\"2월\"] = 28\n",
    "month_end_days[\"3월\"] = 30\n",
    "\n",
    "print(month_end_days.values())\n",
    "\n",
    "for values in month_end_days.values():\n",
    "    print(values)"
   ]
  }
 ],
 "metadata": {
  "kernelspec": {
   "display_name": "Python 3",
   "language": "python",
   "name": "python3"
  },
  "language_info": {
   "codemirror_mode": {
    "name": "ipython",
    "version": 3
   },
   "file_extension": ".py",
   "mimetype": "text/x-python",
   "name": "python",
   "nbconvert_exporter": "python",
   "pygments_lexer": "ipython3",
   "version": "3.13.7"
  }
 },
 "nbformat": 4,
 "nbformat_minor": 5
}
