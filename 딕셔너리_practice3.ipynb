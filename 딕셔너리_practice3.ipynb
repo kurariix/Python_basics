{
 "cells": [
  {
   "cell_type": "code",
   "execution_count": 4,
   "id": "85cc97f4",
   "metadata": {},
   "outputs": [
    {
     "name": "stdout",
     "output_type": "stream",
     "text": [
      "{'1월': 31, '2월': 28, '3월': 30}\n",
      "{'1월': 31, '2월': 28}\n"
     ]
    }
   ],
   "source": [
    "# 문제: 딕셔너리에서 각 달의 마지막 날들을 한 번에 담으세요\n",
    "# 조건: 3월 정보를 제거하세요\n",
    "\n",
    "month_end_days = {} \n",
    "\n",
    "month_end_days[\"1월\"] = 31 # 딕셔너리에 키-값 생성\n",
    "month_end_days[\"2월\"] = 28\n",
    "month_end_days[\"3월\"] = 30\n",
    "\n",
    "print(month_end_days) # 삭제 전\n",
    "\n",
    "del month_end_days[\"3월\"] # del을 이용해 제거\n",
    "\n",
    "print(month_end_days) # 삭제 후"
   ]
  },
  {
   "cell_type": "code",
   "execution_count": null,
   "id": "131fc19c",
   "metadata": {},
   "outputs": [
    {
     "name": "stdout",
     "output_type": "stream",
     "text": [
      "{'1월': 31, '2월': 28, '3월': 30}\n",
      "{'1월': 31, '2월': 29, '3월': 30}\n"
     ]
    }
   ],
   "source": [
    "# 문제: 딕셔너리에서 각 달의 마지막 날들을 한 번에 담으세요\n",
    "# 조건: 2월의 마지막 날을 29일로 수정\n",
    "\n",
    "month_end_days = {}\n",
    "\n",
    "month_end_days[\"1월\"] = 31\n",
    "month_end_days[\"2월\"] = 28\n",
    "month_end_days[\"3월\"] = 30\n",
    "\n",
    "print(month_end_days) # 수정 전\n",
    "\n",
    "month_end_days[\"2월\"] = 29 # 키를 찾아 값 넣기 (리스트와 동일)\n",
    "\n",
    "print(month_end_days) # 수정 후"
   ]
  },
  {
   "cell_type": "code",
   "execution_count": 8,
   "id": "e55c0ac2",
   "metadata": {},
   "outputs": [
    {
     "name": "stdout",
     "output_type": "stream",
     "text": [
      "{'1월': 31, '2월': 28, '3월': 30}\n",
      "{'1월': 31, '2월': 29, '3월': 30, '4월': 30, '5월': 31}\n"
     ]
    }
   ],
   "source": [
    "# 문제: 딕셔너리에서 각 달의 마지막 날들을 한 번에 담으세요\n",
    "# 조건: update()를 이용하여, 2월의 마지막 날을 29일로 수정하고 4, 5월 추가\n",
    "\n",
    "month_end_days = {}\n",
    "\n",
    "month_end_days[\"1월\"] = 31 # 딕셔너리에 키-값 추가\n",
    "month_end_days[\"2월\"] = 28\n",
    "month_end_days[\"3월\"] = 30\n",
    "\n",
    "print(month_end_days) # update 전\n",
    "\n",
    "month_end_days2 = { # update할 딕셔너리 생성\n",
    "    \"2월\" : 29,\n",
    "    \"4월\" : 30,\n",
    "    \"5월\" : 31\n",
    "}\n",
    "\n",
    "month_end_days.update(month_end_days2) # update() 이용하여 2월 수정하고 4,5월 추가\n",
    "\n",
    "print(month_end_days) # update 후"
   ]
  }
 ],
 "metadata": {
  "kernelspec": {
   "display_name": "Python 3",
   "language": "python",
   "name": "python3"
  },
  "language_info": {
   "codemirror_mode": {
    "name": "ipython",
    "version": 3
   },
   "file_extension": ".py",
   "mimetype": "text/x-python",
   "name": "python",
   "nbconvert_exporter": "python",
   "pygments_lexer": "ipython3",
   "version": "3.13.7"
  }
 },
 "nbformat": 4,
 "nbformat_minor": 5
}
