{
 "cells": [
  {
   "cell_type": "code",
   "execution_count": 1,
   "id": "bc35b292",
   "metadata": {},
   "outputs": [
    {
     "name": "stdout",
     "output_type": "stream",
     "text": [
      "{'영수': 11, '영희': 12, '철수': 13, '민수': 14}\n"
     ]
    }
   ],
   "source": [
    "# 문제: 영수, 영희, 철수, 민수의 나이를 딕셔너리에 담기\n",
    "# 조건: 가장 효율적인 데이터 구조를 유지해주세요\n",
    "# 조건: 영수 11살\n",
    "# 조건: 영희 12살\n",
    "# 조건: 철수 13살\n",
    "# 조건: 민수 14살\n",
    "\n",
    "ages = {\n",
    "    \"영수\" : 11,\n",
    "    \"영희\" : 12,\n",
    "    \"철수\" : 13,\n",
    "    \"민수\" : 14\n",
    "}\n",
    "\n",
    "print(ages) # 출력"
   ]
  },
  {
   "cell_type": "code",
   "execution_count": 8,
   "id": "784a5951",
   "metadata": {},
   "outputs": [
    {
     "name": "stdout",
     "output_type": "stream",
     "text": [
      "영수 : 11살\n",
      "영희 : 12살\n",
      "철수 : 13살\n",
      "민수 : 14살\n"
     ]
    }
   ],
   "source": [
    "# 문제: 영수, 영희, 철수, 민수의 나이를 딕셔너리에 담기\n",
    "# 조건: 영수 11살\n",
    "# 조건: 영희 12살\n",
    "# 조건: 철수 13살\n",
    "# 조건: 민수 14살\n",
    "# 조건: 데이터를 넣은 순서대로 순회출력\n",
    "\n",
    "ages = {\n",
    "    \"영수\" : 11,\n",
    "    \"영희\" : 12,\n",
    "    \"철수\" : 13,\n",
    "    \"민수\" : 14\n",
    "}\n",
    "\n",
    "for name, age in ages.items():\n",
    "    print(name + \" : \" + str(age) + \"살\")"
   ]
  },
  {
   "cell_type": "code",
   "execution_count": 7,
   "id": "b980750d",
   "metadata": {},
   "outputs": [
    {
     "name": "stdout",
     "output_type": "stream",
     "text": [
      "영수 : 11살\n",
      "영희 : 12살\n",
      "철수 : 13살\n",
      "민수 : 14살\n",
      "영수 : 11살\n",
      "영희 : 12살\n",
      "철수 : 13살\n",
      "민수 : 14살\n"
     ]
    }
   ],
   "source": [
    "'''\n",
    "순서를 지키면서 데이터를 출력하는 법 (순서 보장) -> 리스트는 무조건 순서를 보장함\n",
    "'''\n",
    "#  key 리스트를 따로 만들기 (파이썬 3.5 이하) - 순서 무조건 보장하는 방법\n",
    "ages = {\n",
    "    \"영수\" : 11,\n",
    "    \"영희\" : 12,\n",
    "    \"철수\" : 13,\n",
    "    \"민수\" : 14\n",
    "}\n",
    "\n",
    "names = [\"영수\", \"영희\", \"철수\", \"민수\"] # key 리스트\n",
    "\n",
    "for name in names: # for문에 담고 돌리기\n",
    "    print(name + \" : \" + str(ages[name]) + \"살\")\n",
    "\n",
    "\n",
    "# 파이썬 3.6 이상\n",
    "ages = {\n",
    "    \"영수\" : 11,\n",
    "    \"영희\" : 12,\n",
    "    \"철수\" : 13,\n",
    "    \"민수\" : 14\n",
    "}\n",
    "\n",
    "for name, age in ages.items():\n",
    "    print(name + \" : \" + str(age) + \"살\")"
   ]
  }
 ],
 "metadata": {
  "kernelspec": {
   "display_name": "Python 3",
   "language": "python",
   "name": "python3"
  },
  "language_info": {
   "codemirror_mode": {
    "name": "ipython",
    "version": 3
   },
   "file_extension": ".py",
   "mimetype": "text/x-python",
   "name": "python",
   "nbconvert_exporter": "python",
   "pygments_lexer": "ipython3",
   "version": "3.13.7"
  }
 },
 "nbformat": 4,
 "nbformat_minor": 5
}
