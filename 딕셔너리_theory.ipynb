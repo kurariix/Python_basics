{
 "cells": [
  {
   "cell_type": "code",
   "execution_count": null,
   "id": "5365fdd2",
   "metadata": {},
   "outputs": [],
   "source": [
    "'''\n",
    "딕셔너리\n",
    " - 구조: Key - Value 쌍\n",
    "  - 중괄호 {} 안에 key : value 형태\n",
    " - 특징: 순서가 아닌 key를 사용하여 접근 \n",
    "\n",
    " - 값 추가: 존재하지 않는 키에 할당하면 추가\n",
    " - 값 변경: 존재하는 키에 할당하면 변경\n",
    " - 값 제거: del\n",
    " - 키 확인: in 키워드 사용\n",
    "\n",
    " - 딕셔너리 메서드\n",
    "  - .keys(): 모든 키 반환\n",
    "  - .values(): 모든 값 반환\n",
    "  - .items(): 키, 값 쌍을 튜플 형태로 모두 반환\n",
    "  - .get(key): 키를 사용하여 값을 가져옴. 키가 없을 때 오류대신 none 반환\n",
    "\n",
    "'''"
   ]
  },
  {
   "cell_type": "code",
   "execution_count": null,
   "id": "26887883",
   "metadata": {},
   "outputs": [
    {
     "name": "stdout",
     "output_type": "stream",
     "text": [
      "철수\n"
     ]
    },
    {
     "ename": "KeyError",
     "evalue": "''",
     "output_type": "error",
     "traceback": [
      "\u001b[31m---------------------------------------------------------------------------\u001b[39m",
      "\u001b[31mKeyError\u001b[39m                                  Traceback (most recent call last)",
      "\u001b[36mCell\u001b[39m\u001b[36m \u001b[39m\u001b[32mIn[12]\u001b[39m\u001b[32m, line 15\u001b[39m\n\u001b[32m     13\u001b[39m \u001b[38;5;66;03m# 값 추가 및 변경\u001b[39;00m\n\u001b[32m     14\u001b[39m student[\u001b[33m\"\u001b[39m\u001b[33m학년\u001b[39m\u001b[33m\"\u001b[39m] = \u001b[32m3\u001b[39m \u001b[38;5;66;03m# '학년' 키와 3 값 추가\u001b[39;00m\n\u001b[32m---> \u001b[39m\u001b[32m15\u001b[39m \u001b[43mstudent\u001b[49m\u001b[43m[\u001b[49m\u001b[33;43m\"\u001b[39;49m\u001b[33;43m\"\u001b[39;49m\u001b[43m]\u001b[49m\n",
      "\u001b[31mKeyError\u001b[39m: ''"
     ]
    }
   ],
   "source": [
    "# 딕셔너리 사용법\n",
    "\n",
    "# 1. 생성 및 값 접근\n",
    "\n",
    "student ={ # 생성\n",
    "    \"ID\" : 2023001,\n",
    "    \"이름\" : \"철수\",\n",
    "    \"전공\" : \"컴퓨터\"\n",
    "}\n",
    "\n",
    "print(student[\"이름\"]) # 접근 , 출력: 철수\n",
    "\n",
    "# 값 추가 및 변경\n",
    "student[\"학년\"] = 3 # '학년' 키와 3 값 추가\n",
    "student[\"전공\"] = \"소프트웨어\" # '전공'의 값 변경\n",
    "\n",
    "# 값 제거\n",
    "del student[\"ID\"] # 'ID' 키와 값 제거\n",
    "\n",
    "# 키 확인 \n",
    "if \"이름\" in student:\n",
    "    print(\"이름 키가 존재합니다\")"
   ]
  },
  {
   "cell_type": "code",
   "execution_count": null,
   "id": "d572de86",
   "metadata": {},
   "outputs": [
    {
     "name": "stdout",
     "output_type": "stream",
     "text": [
      "10\n",
      "20\n",
      "30\n",
      "40\n",
      "철수 나이:  10\n",
      "영희 나이:  20\n",
      "영수 나이:  30\n"
     ]
    }
   ],
   "source": [
    "# 리스트 [중괄호] -> 인덱스 자동으로 만들어짐\n",
    "\n",
    "ages = [10, 20, 30]\n",
    "print(ages[0]) # 철수\n",
    "print(ages[1]) # 영희\n",
    "print(ages[2]) # 영수\n",
    "\n",
    "ages.append(40) # 영수 - 리스트: apeend() 함수로 추가\n",
    "print(ages[3])\n",
    "\n",
    "# 딕셔너리 {대괄호} -> 인덱스를 직접 만듦 (맵) key : value\n",
    "\n",
    "ages = {\n",
    "\n",
    "    \"철수\" : 10,\n",
    "    \"영희\" : 20,\n",
    "    \"영수\" : 30\n",
    "}\n",
    "\n",
    "ages[\"민수\"] = 40 # 딕셔너리: 직접 키(key) 지정 / \"민수\" = key \n",
    "\n",
    "print(\"철수 나이: \", ages[\"철수\"]) # 서로 다른 타입을 더하는건 안되지만 콤마는 가능 \n",
    "print(\"영희 나이: \", ages[\"영희\"])\n",
    "print(\"영수 나이: \", ages[\"영수\"])\n"
   ]
  },
  {
   "cell_type": "code",
   "execution_count": null,
   "id": "02f78562",
   "metadata": {},
   "outputs": [],
   "source": [
    "'''\n",
    "리스트의 장점\n",
    " - 데이터를 넣을 때 편하다 \n",
    "\n",
    "리스트의 단점\n",
    " - 데이터 요소에 라벨링이 자동이어서, 내가 특정 데이터를 리스트에 몇 번째로 넣었는지 기억해야 한다\n",
    " -> 데이터에 접근할 때 불편하다\n",
    "\n",
    "* 데이터를 넣는 경우\n",
    " 리스트) a.apeend(10)\n",
    " 딕셔너리) a[\"민수\"] = 10\n",
    "\n",
    "딕셔너리의 장점\n",
    " - 데이터를 접근할 때 편하다\n",
    "\n",
    "* 데이터를 가져오는 경우 \n",
    " 리스트) ages[2] - 인덱스를 계산해야 함\n",
    " 딕셔너리) ages[\"영희\"]\n",
    "\n",
    "'''"
   ]
  },
  {
   "cell_type": "code",
   "execution_count": null,
   "id": "f19dbbfa",
   "metadata": {},
   "outputs": [],
   "source": [
    "'''\n",
    "데이터 여러 개\n",
    " 콜렉션 (객체) -> 데이터를 묶어주는 것\n",
    "    - 리스트\n",
    "    - 딕셔너리\n",
    "\n",
    " 객체 (진짜 객체)\n",
    "\n",
    "'''"
   ]
  },
  {
   "cell_type": "code",
   "execution_count": null,
   "id": "dfbdb36d",
   "metadata": {},
   "outputs": [],
   "source": [
    "# 딕셔너리 반복\n",
    "\n",
    "ages = { # 딕셔너리 정의\n",
    "\n",
    "    \"철수\" : 10, # 키 : 값\n",
    "    \"영희\" : 20,\n",
    "    \"영수\" : 30,\n",
    "    \"민수\" : 40\n",
    "}\n",
    "\n",
    "ages[\"민수\"] = 40 \n",
    "\n",
    "print(\"==딕셔너리 반복 v1==\")\n",
    "for name in ages:\n",
    "    print(name) # key가 출력 됨 (리스트에선 value가 출력 됨)\n",
    "\n",
    "print(\"== 딕셔너리 반복 v2 ==\") \n",
    "for name in ages:\n",
    "    print(\"{} 나이 : {}\".format(name, ages[name])) # key와 value 둘 다 출력\n",
    "\n",
    "print(\"== 딕셔너리 반복 v3 ==\")\n",
    "for name in ages.keys(): # ages = age.keys() - keys()가 생략되있는 것\n",
    "    print(\"{} 나이 : {}\".format(name, ages[name]))\n",
    "\n",
    "print(\"ages.keys() : \", ages.keys()) # key들로만 이루어진 리스트를 뽑을 수 있음\n",
    "\n",
    "print(\"ages.values() : \", ages.values()) # value들로만 이루어진 리스트를 뽑을 수 있음\n",
    "\n",
    "# for문을 이용해서 values 출력\n",
    "for age in ages.values():\n",
    "    print(\"나이 : {}\".format(age)) # value를 출력할 순 있지만, 누구의 나이인지는 알 수 없음\n",
    "\n",
    "\n",
    "print(\"== 딕셔너리 반복 v4 ==\") # 가장 좋은 방법 = 키와 값 둘 다 가져오기\n",
    "for name, ages in ages.items(): # items()를 통해서 key와 value를 따로 가져올 수 있다\n",
    "    print(\"{} 나이 : {}\".format(name, age))"
   ]
  },
  {
   "cell_type": "code",
   "execution_count": null,
   "id": "0402f685",
   "metadata": {},
   "outputs": [],
   "source": [
    "# 딕셔너리 삭제/수정\n",
    "\n",
    "ages = { # 딕셔너리 정의\n",
    "\n",
    "    \"철수\" : 10, # 키 : 값\n",
    "    \"영희\" : 20,\n",
    "    \"영수\" : 30,\n",
    "    \"민수\" : 40\n",
    "}\n",
    "\n",
    "ages[\"철수\"] = 100 # 수정\n",
    "\n",
    "del ages[\"민수\"] # 삭제\n",
    "\n",
    "print(ages)"
   ]
  },
  {
   "cell_type": "code",
   "execution_count": null,
   "id": "a0e9a169",
   "metadata": {},
   "outputs": [
    {
     "name": "stdout",
     "output_type": "stream",
     "text": [
      "수학\n",
      "영어\n",
      "국어\n"
     ]
    }
   ],
   "source": [
    "# for 반복문을 사용하면 기본적으로 키만 출력\n",
    "\n",
    "scores = {\n",
    "    \"수학\" : 30,\n",
    "    \"영어\" : 40,\n",
    "    \"국어\" : 50\n",
    "}\n",
    "\n",
    "for key in scores:\n",
    "    print(i)"
   ]
  },
  {
   "cell_type": "code",
   "execution_count": 6,
   "id": "7fc95470",
   "metadata": {},
   "outputs": [
    {
     "name": "stdout",
     "output_type": "stream",
     "text": [
      "[30, 40, 50]\n",
      "['수학', '영어', '국어']\n"
     ]
    }
   ],
   "source": [
    "# 값만 추출하는 방법\n",
    "\n",
    "scores = {\n",
    "    \"수학\" : 30,\n",
    "    \"영어\" : 40,\n",
    "    \"국어\" : 50\n",
    "}\n",
    "\n",
    "values_only = [] # 값 추출 리스트\n",
    "\n",
    "for key in scores:\n",
    "    value = scores[key]\n",
    "    values_only.append(value)\n",
    "\n",
    "print(values_only)\n",
    "\n",
    "# 키만 추출\n",
    "\n",
    "key_only = []\n",
    "\n",
    "for key in scores:\n",
    "    key_only.append(key)\n",
    "\n",
    "print(key_only)"
   ]
  },
  {
   "cell_type": "code",
   "execution_count": null,
   "id": "96456452",
   "metadata": {},
   "outputs": [],
   "source": [
    "scores = {\n",
    "    \"수학\" : 30,\n",
    "    \"영어\" : 40,\n",
    "    \"국어\" : 50\n",
    "}\n",
    "\n",
    "for key in scores: # scores 뒤에 아무것도 안붙어있다면 .keys()가 생략되있다고 생각하기!\n",
    "    print(i)"
   ]
  }
 ],
 "metadata": {
  "kernelspec": {
   "display_name": "Python 3",
   "language": "python",
   "name": "python3"
  },
  "language_info": {
   "codemirror_mode": {
    "name": "ipython",
    "version": 3
   },
   "file_extension": ".py",
   "mimetype": "text/x-python",
   "name": "python",
   "nbconvert_exporter": "python",
   "pygments_lexer": "ipython3",
   "version": "3.13.7"
  }
 },
 "nbformat": 4,
 "nbformat_minor": 5
}
