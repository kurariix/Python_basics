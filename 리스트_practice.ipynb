{
 "cells": [
  {
   "cell_type": "code",
   "execution_count": null,
   "id": "c3c14d70",
   "metadata": {},
   "outputs": [],
   "source": [
    "# 문제: 리스트에 순서대로 2, 1, 5, 6, 7를 한 번에 담아주세요\n",
    "\n",
    "a = [2, 1, 5, 6, 7]\n",
    "\n",
    "print(a)\n"
   ]
  },
  {
   "cell_type": "code",
   "execution_count": null,
   "id": "48fd18e2",
   "metadata": {},
   "outputs": [
    {
     "name": "stdout",
     "output_type": "stream",
     "text": [
      "[2, 1, 5, 6, 7]\n"
     ]
    }
   ],
   "source": [
    "# 문제: 비어있는 리스트를 만들고, 순서대로 2, 1, 5, 6, 7를 하나씩 담아주세요\n",
    "\n",
    "a = []\n",
    "\n",
    "a.append(2) # 0\n",
    "a.append(1) # 1\n",
    "a.append(5) # 2\n",
    "a.append(6) # 3\n",
    "a.append(7) # 4\n",
    "\n",
    "print(a)"
   ]
  },
  {
   "cell_type": "code",
   "execution_count": 4,
   "id": "9f975cb4",
   "metadata": {},
   "outputs": [
    {
     "name": "stdout",
     "output_type": "stream",
     "text": [
      "['월', '화', '수', '목', '금', '토', '일']\n"
     ]
    }
   ],
   "source": [
    "# 문제: 리스트에 순서대로 '월', '화', '수', '목', '금'을 한번에 담아주세요. 그리고 '토', '일'을 순서대로 추가해주세요\n",
    "\n",
    "days = ['월', '화', '수', '목', '금']\n",
    "\n",
    "days.append('토') # 0\n",
    "days.append('일') # 1\n",
    "\n",
    "print(days)\n"
   ]
  },
  {
   "cell_type": "code",
   "execution_count": 5,
   "id": "74504fe4",
   "metadata": {},
   "outputs": [
    {
     "name": "stdout",
     "output_type": "stream",
     "text": [
      "['월', '화', '수', '목', '금', '토', '일']\n"
     ]
    }
   ],
   "source": [
    "# 문제: 리스트에 순서대로 '월', '화', '수', '목', '금'을 한번에 담아주세요. 그리고 '토', '일'을 담은 리스트를 만들고 2개의 리스트를 합쳐서 새로운 리스트를 만들어 주세요\n",
    "\n",
    "days1 = ['월', '화', '수', '목', '금']\n",
    "days2 = ['토', '일']\n",
    "\n",
    "days3 = days1 + days2 # 리스트와 리스트 끼리는 더할 수 있다\n",
    "\n",
    "print(days3)"
   ]
  },
  {
   "cell_type": "code",
   "execution_count": null,
   "id": "090e0f39",
   "metadata": {},
   "outputs": [
    {
     "name": "stdout",
     "output_type": "stream",
     "text": [
      "['월', '화', '수', '목', '금', '토', '일']\n"
     ]
    }
   ],
   "source": [
    "# 문제: 리스트에 순서대로 '월', '화', '수', '목', '금'을 한번에 담아주세요. 그리고 '+=' 연산자를 이용해서 '토', '일'을 한번에 추가해주세요\n",
    "\n",
    "days = ['월', '화', '수', '목', '금']\n",
    "days += ['토', '일'] # days = days + '토', '일' -> 리스트에 '+='을 사용하면, 뒤에 오는 항목들을 기존 리스트의 끝에 추가한다\n",
    "\n",
    "print(days)"
   ]
  },
  {
   "cell_type": "code",
   "execution_count": null,
   "id": "f1536d56",
   "metadata": {},
   "outputs": [
    {
     "name": "stdout",
     "output_type": "stream",
     "text": [
      "월\n"
     ]
    }
   ],
   "source": [
    "# 문제: 리스트에 순서대로 '월', '화', '수', '목' '금'을 한번에 담아주세요. 그리고 가장 처음 요소를 출력해주세요\n",
    "\n",
    "days = ['월', '화', '수', '목', '금'] # 0부터 시작 (인덱스)\n",
    "\n",
    "print(days[0]) # 리스트이름[번호]"
   ]
  },
  {
   "cell_type": "code",
   "execution_count": null,
   "id": "c7dddafc",
   "metadata": {},
   "outputs": [
    {
     "name": "stdout",
     "output_type": "stream",
     "text": [
      "금\n"
     ]
    }
   ],
   "source": [
    "# 문제: 리스트에 순서대로 '월', '화', '수', '목', '금'을 한번에 담아주세요. 그리고 가장 마지막 요소를 출력해주세요\n",
    "\n",
    "days = ['월', '화', '수', '목', '금']   # 금 -> 4\n",
    "\n",
    "print(days[4])"
   ]
  },
  {
   "cell_type": "code",
   "execution_count": 11,
   "id": "b4725be9",
   "metadata": {},
   "outputs": [
    {
     "name": "stdout",
     "output_type": "stream",
     "text": [
      "목\n",
      "목\n"
     ]
    }
   ],
   "source": [
    "# 문제: 리스트에 순서대로 '월', '화', '수', '목', '금'을 한번에 담아주세요. 그리고 가장 마지막에서 2번째 요소를 출력해주세요.\n",
    "\n",
    "days = ['월', '화', '수', '목', '금'] # 거꾸로도 가능 ex) 4 -> -1\n",
    "\n",
    "print(days[3]) # 인덱스 3\n",
    "print(days[-2]) # -2"
   ]
  }
 ],
 "metadata": {
  "kernelspec": {
   "display_name": "Python 3",
   "language": "python",
   "name": "python3"
  },
  "language_info": {
   "codemirror_mode": {
    "name": "ipython",
    "version": 3
   },
   "file_extension": ".py",
   "mimetype": "text/x-python",
   "name": "python",
   "nbconvert_exporter": "python",
   "pygments_lexer": "ipython3",
   "version": "3.13.7"
  }
 },
 "nbformat": 4,
 "nbformat_minor": 5
}
