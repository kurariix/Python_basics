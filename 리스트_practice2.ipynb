{
 "cells": [
  {
   "cell_type": "code",
   "execution_count": null,
   "id": "3869efa0",
   "metadata": {},
   "outputs": [
    {
     "name": "stdout",
     "output_type": "stream",
     "text": [
      "월\n",
      "화\n",
      "수\n",
      "목\n",
      "금\n"
     ]
    }
   ],
   "source": [
    "# 리스트에 순서대로 '월', '화', '수', '목', '금'을 한번에 담아주세요. 그리고 while문을 이용해서 요소 전부 출력해주세요.\n",
    "\n",
    "days = ['월', '화', '수', '목', '금'] # 리스트에 담기 (인덱스: 0 , 1, 2, 3, 4)\n",
    "\n",
    "i = 0 # 시작값\n",
    "while i <= 4:\n",
    "    print(days[i])\n",
    "    i += 1"
   ]
  },
  {
   "cell_type": "code",
   "execution_count": null,
   "id": "8bf0b0c2",
   "metadata": {},
   "outputs": [],
   "source": [
    "# 리스트에 순서대로 '월', '화', '수', '목', '금'을 한번에 담아주세요. 그리고 while문을 이용해서 요소 전부 출력해주세요. (정답)\n",
    "\n",
    "days = ['월', '화', '수', '목', '금'] # 리스트에 담기 (인덱스: 0 , 1, 2, 3, 4)\n",
    "\n",
    "i = 0 # 시작값\n",
    "while i <= len(days):   # len() 함수: 리스트의 데이터 개수를 반환해줌 -> 데이터가 5개 이므로 5를 리턴\n",
    "    print(days[i])\n",
    "    i += 1"
   ]
  },
  {
   "cell_type": "code",
   "execution_count": 5,
   "id": "b8d73667",
   "metadata": {},
   "outputs": [
    {
     "name": "stdout",
     "output_type": "stream",
     "text": [
      "금\n",
      "목\n",
      "수\n",
      "화\n",
      "월\n"
     ]
    }
   ],
   "source": [
    "# 리스트에 순서대로 '월', '화', '수', '목', '금'을 한번에 담아주세요. 그리고 while문을 이용해서 요소 전부 역순으로 출력해주세요.\n",
    "\n",
    "days = ['월', '화', '수', '목', '금']\n",
    "\n",
    "i = 4\n",
    "while i >= 0:\n",
    "    print(days[i])\n",
    "    i -= 1"
   ]
  },
  {
   "cell_type": "code",
   "execution_count": null,
   "id": "1aae70d5",
   "metadata": {},
   "outputs": [
    {
     "name": "stdout",
     "output_type": "stream",
     "text": [
      "5\n",
      "5\n"
     ]
    }
   ],
   "source": [
    "# 문제: 리스트에 순서대로 2, 1, '오', 6, 7를 한번에 담아주세요. 그리고 리스트 안에 있는 '오'를 정수 5로 변경해주세요\n",
    "\n",
    "# 나쁜 방법 -> 직접 계산 해야함\n",
    "list1 = [2, 1, '오', 6, 7]\n",
    "list1[2] = 5\n",
    "\n",
    "print(list1[2])\n",
    "\n",
    "# 좋은 방법\n",
    "list2 = [2, 1, '오', 6, 7]\n",
    "list2[list2.index('오')] = 5  # list2.index('오')는 위치를 검색하는 것이다 -> lete2 리스트 안에 있는 인덱스 중에서 '오'라는게 어디 있는지\n",
    "\n",
    "print(list2[2])\n",
    "\n"
   ]
  },
  {
   "cell_type": "code",
   "execution_count": 12,
   "id": "c7ca9e08",
   "metadata": {},
   "outputs": [
    {
     "name": "stdout",
     "output_type": "stream",
     "text": [
      "[2, 1, 6, 7]\n",
      "[2, 1, 6, 7]\n",
      "[2, 1, 6, 7]\n"
     ]
    }
   ],
   "source": [
    "# 문제: 리스트에 순서대로 2, 1, '오', 6, 7를 한번에 담아주세요. 그리고 리스트 안에 있는 '오'를 제거해주세요.\n",
    "\n",
    "# 나쁜 방법\n",
    "list1 = [2, 1, '오', 6, 7]\n",
    "del list1[2] # list1 리스트의 인덱스 2번째 요소 삭제\n",
    "\n",
    "print(list1)\n",
    "\n",
    "# 좋은 방법\n",
    "list2 = [2, 1, '오', 6, 7]\n",
    "del list2[list2.index('오')]\n",
    "\n",
    "print(list2)\n",
    "\n",
    "# 가장 좋은 방법\n",
    "list3 = [2, 1, '오', 6, 7]\n",
    "list3.remove('오') # 찾을 필요없이 삭제하고싶은 데이처를 넣어줌\n",
    "\n",
    "print(list3)\n"
   ]
  },
  {
   "cell_type": "code",
   "execution_count": null,
   "id": "aed07337",
   "metadata": {},
   "outputs": [],
   "source": [
    "# 리스트에 순서대로 '월', '화', '수', '목', '금'을 한번에 담아주세요. '화'가 리스트 안에 들어있는지 알려주세요.\n",
    "\n",
    "days = ['월', '화', '수', '목', '금']\n",
    "\n",
    "if '화' in days:    # 말그대로 리스트 안에(in) '화'가 있다면(if)\n",
    "    print(\"있다!\")\n",
    "else:\n",
    "    print(\"없다!\")"
   ]
  },
  {
   "cell_type": "code",
   "execution_count": null,
   "id": "5d3ef671",
   "metadata": {},
   "outputs": [
    {
     "name": "stdout",
     "output_type": "stream",
     "text": [
      "1\n"
     ]
    }
   ],
   "source": [
    "# 리스트에 순서대로 '월', '화', '수', '목', '금'을 한번에 담아주세요. \n",
    "# '화'가 리스트 안에서 몇번째 데이터인지 알려주세요\n",
    "\n",
    "days = ['월', '화', '수', '목', '금']\n",
    "\n",
    "i = days.index('화') # index는 데이터가 진짜 있을때만, 어느 위치인지 모를 때 (데이터 없으면 오류)\n",
    "print(i)"
   ]
  },
  {
   "cell_type": "code",
   "execution_count": 17,
   "id": "0dce5032",
   "metadata": {},
   "outputs": [
    {
     "name": "stdout",
     "output_type": "stream",
     "text": [
      "['월', '수', '목', '금']\n"
     ]
    }
   ],
   "source": [
    "# 리스트에 순서대로 '월', '화', '수', '목', '금'을 한번에 담아주세요. \n",
    "# '화'가 리스트 안에 있는지 if문으로 체크 후, 있다면 삭제해주세요 (안전하게 삭제하는 방법)\n",
    "\n",
    "days = ['월', '화', '수', '목', '금']\n",
    "\n",
    "# days.remove('토') -> 오류, 별로 안전하지 않은 방법임\n",
    "\n",
    "if '화' in days:\n",
    "    days.remove('화')\n",
    "\n",
    "print(days)"
   ]
  },
  {
   "cell_type": "code",
   "execution_count": 18,
   "id": "123baffe",
   "metadata": {},
   "outputs": [
    {
     "name": "stdout",
     "output_type": "stream",
     "text": [
      "['월', '화', '수', '목', '금']\n"
     ]
    }
   ],
   "source": [
    "# 리스트에 순서대로 '월', '화', '수', '목', '금'을 한번에 담아주세요. \n",
    "# '토'가 리스트 안에 있는지 if문으로 체크 후, 있다면 삭제해주세요\n",
    "\n",
    "days = ['월', '화', '수', '목', '금']\n",
    "\n",
    "if '토' in days:\n",
    "    days.remove('토')\n",
    "\n",
    "print(days)"
   ]
  },
  {
   "cell_type": "code",
   "execution_count": 19,
   "id": "4a746328",
   "metadata": {},
   "outputs": [
    {
     "name": "stdout",
     "output_type": "stream",
     "text": [
      "== 정답 1 ==\n",
      "['월', '화', '수', '목']\n",
      "== 정답 2 ==\n",
      "['월', '화', '수', '목']\n",
      "== 정답 3 ==\n",
      "['월', '화', '수', '목']\n"
     ]
    }
   ],
   "source": [
    "# 리스트에 순서대로 '월', '화', '수', '목', '금'을 한번에 담아주세요.\n",
    "# 리스트에 있는 '금'을 삭제하는 3가지 방법을 보여주세요\n",
    "\n",
    "print(\"== 정답 1 ==\")\n",
    "\n",
    "days1 = ['월', '화', '수', '목', '금']\n",
    "del days1[4] # 정답 1\n",
    "\n",
    "print(days1)\n",
    "\n",
    "print(\"== 정답 2 ==\")\n",
    "\n",
    "days2 = ['월', '화', '수', '목', '금']\n",
    "days2.remove('금') # 정답 2\n",
    "\n",
    "print(days2)\n",
    "\n",
    "print(\"== 정답 3 ==\")\n",
    "\n",
    "days3 = ['월', '화', '수', '목', '금']\n",
    "del days3[days3.index('금')] # 정답 3\n",
    "\n",
    "print(days3)"
   ]
  },
  {
   "cell_type": "code",
   "execution_count": null,
   "id": "4e8f9a89",
   "metadata": {},
   "outputs": [
    {
     "name": "stdout",
     "output_type": "stream",
     "text": [
      "== 정답 1 ==\n",
      "['월', '화', '수', '목']\n",
      "== 정답 2 ==\n",
      "['월', '화', '수', '목']\n"
     ]
    }
   ],
   "source": [
    "# 리스트에 순서대로 '월', '화', '수', '목', '금'을 한번에 담아주세요.\n",
    "# 리스트에 있는 '금'을 안전하게 삭제하는 2가지 방법을 보여주세요\n",
    "\n",
    "print(\"== 정답 1 ==\")\n",
    "\n",
    "days1 = ['월', '화', '수', '목', '금']\n",
    "\n",
    "if '금' in days:   # 정답 1\n",
    "    days1.remove('금')\n",
    "\n",
    "print(days1)\n",
    "\n",
    "print(\"== 정답 2 ==\")\n",
    "\n",
    "days2 = ['월', '화', '수', '목', '금']\n",
    "\n",
    "if '금' in days:\n",
    "    del days2[days2.index('금')]\n",
    "\n",
    "print(days2)"
   ]
  }
 ],
 "metadata": {
  "kernelspec": {
   "display_name": "Python 3",
   "language": "python",
   "name": "python3"
  },
  "language_info": {
   "codemirror_mode": {
    "name": "ipython",
    "version": 3
   },
   "file_extension": ".py",
   "mimetype": "text/x-python",
   "name": "python",
   "nbconvert_exporter": "python",
   "pygments_lexer": "ipython3",
   "version": "3.13.7"
  }
 },
 "nbformat": 4,
 "nbformat_minor": 5
}
