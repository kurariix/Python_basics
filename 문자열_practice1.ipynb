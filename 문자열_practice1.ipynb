{
 "cells": [
  {
   "cell_type": "code",
   "execution_count": 1,
   "id": "bbedeab1",
   "metadata": {},
   "outputs": [
    {
     "name": "stdout",
     "output_type": "stream",
     "text": [
      "안\n",
      "녕\n",
      "하\n",
      "세\n",
      "요\n",
      "안 녕 하 세 요\n"
     ]
    }
   ],
   "source": [
    "# 문제: string1을 구성하는 문자 중에서 a, b, c, d, e를 제외하고 출력해주세요\n",
    "# 조건: 함수로 만들고 실행해주세요\n",
    "# 조건: 함수 안에 'string1 = \"인a녕b하c세d요e\" 이 부분을 새로 넣어야합니다. (지역변수로 만들어야 합니다)\n",
    "# 조건: 2개 이상 만들어주세요\n",
    "\n",
    "def sol_v1():\n",
    "    string1 = \"안a녕b하c세d요e\"\n",
    "    for c in string1:\n",
    "        if c != 'a' and c != 'b' and c != 'c' and c != 'd' and c != 'e':\n",
    "            print(c)\n",
    "\n",
    "\n",
    "def sol_v2():\n",
    "    string1 = \"안a녕b하c세d요e\"\n",
    "    print(string1[0], string1[2], string1[4], string1[6], string1[8])\n",
    "\n",
    "sol_v1()\n",
    "sol_v2()"
   ]
  },
  {
   "cell_type": "code",
   "execution_count": null,
   "id": "ca427be2",
   "metadata": {},
   "outputs": [],
   "source": [
    "# 문제: string1을 구성하는 문자 중에서 a, b, c, d, e를 제외하고 출력해주세요 (정답 )\n",
    "# 조건: 함수로 만들고 실행해주세요\n",
    "# 조건: 함수 안에 'string1 = \"인a녕b하c세d요e\" 이 부분을 새로 넣어야합니다. (지역변수로 만들어야 합니다)\n",
    "# 조건: 2개 이상 만들어주세요\n",
    "\n",
    "def sol_v1():\n",
    "    string1 = \"안a녕b하c세d요e\" # string1의 길이는 10이고, 각각의 문자는 string1[0]부터 string[9]까지 존재함\n",
    "\n",
    "    rs = \"\" # 빈 문자열 변수 초기화\n",
    "    rs += string1[0] + string1[2] + string1[4] + string1[6] + string1[8] # 문자 추가\n",
    "\n",
    "    print(rs) # 출력\n",
    "\n",
    "\n",
    "def sol_v2():\n",
    "    string1 = \"안a녕b하c세d요e\"\n",
    "\n",
    "    rs = \"\" # 빈 문자열 변수\n",
    "\n",
    "    string1_len = len(string1) # 문장의 길이 값 변수\n",
    "\n",
    "    i = 0\n",
    "\n",
    "    while i < string1_len:\n",
    "        c = string1[i]\n",
    "        if c != 'a' and c != 'b' and c != 'c' and c != 'd' and c != 'e':\n",
    "            rs += c\n",
    "        i += 1\n",
    "\n",
    "    print(rs) # 출력\n",
    "\n",
    "\n",
    "def sol_v3():\n",
    "    string1 = \"안a녕b하c세d요e\"\n",
    "\n",
    "    rs = \"\"\n",
    "\n",
    "    for c in string1:\n",
    "        if c != 'a' and c != 'b' and c != 'c' and c != 'd' and c != 'e':\n",
    "            rs += c   \n",
    "\n",
    "    print(rs) # 출력\n",
    "\n",
    "def sol_v4():\n",
    "    string1 = \"안a녕b하c세d요d\"\n",
    "\n",
    "    rs = \"\"\n",
    "\n",
    "    for c in string1: # string1 안에 있는 문자 1개가 차례대로 c로 들어가서 실행된다. 반복횟수는 문장의 길이만큼이다\n",
    "        if c not in ['a', 'b', 'c', 'd', 'e']:\n",
    "            rs += c\n",
    "\n",
    "    print(rs)     \n",
    "\n",
    "\n",
    "\n",
    "sol_v1()\n",
    "sol_v2()\n",
    "sol_v3()\n",
    "sol_v4()"
   ]
  }
 ],
 "metadata": {
  "kernelspec": {
   "display_name": "Python 3",
   "language": "python",
   "name": "python3"
  },
  "language_info": {
   "codemirror_mode": {
    "name": "ipython",
    "version": 3
   },
   "file_extension": ".py",
   "mimetype": "text/x-python",
   "name": "python",
   "nbconvert_exporter": "python",
   "pygments_lexer": "ipython3",
   "version": "3.13.7"
  }
 },
 "nbformat": 4,
 "nbformat_minor": 5
}
