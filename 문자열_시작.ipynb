{
 "cells": [
  {
   "cell_type": "code",
   "execution_count": null,
   "id": "016005b7",
   "metadata": {},
   "outputs": [],
   "source": [
    "'''\n",
    "문자열 슬라이싱\n",
    "\n",
    "string[start:(end-1):step]\n",
    "\n",
    "문자열도 인덱스는 0부터 시작\n",
    "step: 보폭\n",
    "\n",
    "* 인덱스 생략\n",
    "s[:~] -> 0번부터 시작\n",
    "'''"
   ]
  },
  {
   "cell_type": "code",
   "execution_count": null,
   "id": "a05110ee",
   "metadata": {},
   "outputs": [
    {
     "name": "stdout",
     "output_type": "stream",
     "text": [
      "== 예제1 ==\n",
      "s의 길이 출력\n",
      "5\n",
      "s를 이루는 문자 중에서 앞에거 2개 출력 \n",
      "안녕\n",
      "문자열 슬라이싱을 통해 s를 이루는 문자 중에서 앞에서 하나 건너 뛰고 1개 출력\n",
      "녕\n",
      "s를 이루는 문자 중에서 앞에서 문자 4개 출력, 첫 인덱스 생략\n",
      "안녕하세\n"
     ]
    }
   ],
   "source": [
    "\n",
    "print(\"== 예제1 ==\")\n",
    "s = \"안녕하세요\"\n",
    "\n",
    "print(\"s의 길이 출력\")\n",
    "print(len(s)) # len() 함수는  문자의 길이도 구함 \n",
    "\n",
    "\n",
    "'''\n",
    "문자열 슬라이싱: 특정 부분만 출력하고 싶을때 \n",
    "[시작점 : 원하는 문자 + 1]\n",
    "'''\n",
    "print(\"s를 이루는 문자 중에서 앞에거 2개 출력 \")\n",
    "print(s[0:2]) # 안녕 \n",
    "\n",
    "print(\"문자열 슬라이싱을 통해 s를 이루는 문자 중에서 앞에서 하나 건너 뛰고 1개 출력\")\n",
    "print(s[1:2]) # 녕\n",
    "\n",
    "print(\"s를 이루는 문자 중에서 앞에서 문자 4개 출력, 첫 인덱스 생략\") # [:~]\n",
    "print(s[:4]) # 안녕하세\n",
    "\n",
    "print(\"s를 이루는 문자 중에서 앞에서 3개 건너뛰고, 나머지 전부 출력, len()\")\n",
    "print(s[3:len{s}]) # 세요\n",
    "\n",
    "print(\"s를 이루는 문자 중에서 앞에서 3개 건너뛰고, 나머지 전부 출력, 뒤 인덱스 생략, 방법 2번째\") # [~:]\n",
    "print(s[3:]) # 세요\n"
   ]
  },
  {
   "cell_type": "code",
   "execution_count": null,
   "id": "2a1ba26a",
   "metadata": {},
   "outputs": [
    {
     "name": "stdout",
     "output_type": "stream",
     "text": [
      "== 예제 2 ==\n",
      "s를 이루는 문자를 하나씩 출력, while\n",
      "안\n",
      "녕\n",
      "하\n",
      "세\n",
      "요\n",
      "s를 이루는 문자를 역순으로 하나씩 출력, while\n",
      "요\n",
      "세\n",
      "하\n",
      "녕\n",
      "안\n",
      "s를 이루는 문자를 역순으로 하나씩 출력, for문\n",
      "요\n",
      "세\n",
      "하\n",
      "녕\n",
      "안\n"
     ]
    }
   ],
   "source": [
    "print(\"== 예제 2 ==\")\n",
    "s = \"안녕하세요\"\n",
    "\n",
    "print(\"s를 이루는 문자를 하나씩 출력, while\")\n",
    "i = 0\n",
    "while i <= len(s) - 1: # 또는 while i < len(s)\n",
    "    print(s[i])\n",
    "    i += 1\n",
    "\n",
    "print(\"s를 이루는 문자를 역순으로 하나씩 출력, while\")\n",
    "i = len(s) -1   \n",
    "while i >= 0:   \n",
    "    print(s[i])\n",
    "    i -= 1\n",
    "\n",
    "print(\"s를 이루는 문자를 하나씩 출력, for\")\n",
    "for i in s:\n",
    "    print(i)\n",
    "\n",
    "print(\"s를 이루는 문자를 역순으로 하나씩 출력, for\")\n",
    "for i in range(len(s) - 1, -1, -1):\n",
    "    print(s[i])"
   ]
  },
  {
   "cell_type": "code",
   "execution_count": null,
   "id": "9a8cf337",
   "metadata": {},
   "outputs": [],
   "source": [
    "'''\n",
    "break 와 continue\n",
    " - break: 지금 즉시 반복문 중지\n",
    " - continue: 반복문 끝이 아니라 이번 턴만 스킵\n",
    "'''\n",
    "\n",
    "# break할 경우\n",
    "for i in range(1, 10):\n",
    "    if i == 5: # 한 번이라도 참이면\n",
    "        break # 그 즉시 반복문 중지\n",
    "    print(i) # 1 ~ 4\n",
    "\n",
    "# continue할 경우\n",
    "for i in range(1, 10):\n",
    "    if i == 5:\n",
    "        continue # 반복문 끝이 아니라 이번 턴만 스킵\n",
    "    print(i) # 1, 2, 3, 4, 6, 7, 8, 9"
   ]
  },
  {
   "cell_type": "code",
   "execution_count": null,
   "id": "ac63248f",
   "metadata": {},
   "outputs": [],
   "source": [
    "'''\n",
    "in 과 not in\n",
    " - in: 포함되어 있는거\n",
    " - not in: 포함되지 않는거\n",
    "'''"
   ]
  },
  {
   "cell_type": "code",
   "execution_count": null,
   "id": "362b32d5",
   "metadata": {},
   "outputs": [
    {
     "name": "stdout",
     "output_type": "stream",
     "text": [
      "== 예제 3 ==\n",
      "s를 이루는 문자 중에서 한글만 출력\n",
      "안녕하세요\n",
      "s를 이루는 문자 중에서 한글만 출력, for, if or, continue\n",
      "안\n",
      "녕\n",
      "하\n",
      "세\n",
      "요\n",
      "s를 이루는 문자 중에서 한글만 출력, for, if and, 방법 2\n",
      "안\n",
      "녕\n",
      "하\n",
      "세\n",
      "요\n",
      "s를 이루는 문자 중에서 한글만 출력, for, not in, 방법 3\n"
     ]
    }
   ],
   "source": [
    "print(\"== 예제 3 ==\")\n",
    "s = \"a안b녕c하d세e요f\"\n",
    "\n",
    "print(\"s를 이루는 문자 중에서 한글만 출력\")\n",
    "# 구현\n",
    "print(s[1] + s[3] + s[5] + s [7] + s[9])\n",
    "\n",
    "print(\"s를 이루는 문자 중에서 한글만 출력, for, if or, continue\")\n",
    "# 구현\n",
    "for c in s:\n",
    "    if c == 'a' or c == 'b' or c == 'c' or c == 'd' or c == 'e' or c == 'e' or c == 'f':\n",
    "        continue  # 'a', 'b', 'c', 'd', 'e', 'f'가 참일 때 스킵\n",
    "    print(c)\n",
    "\n",
    "\n",
    "print(\"s를 이루는 문자 중에서 한글만 출력, for, if and, 방법 2\")\n",
    "# 구현\n",
    "for c in s:\n",
    "    if c != 'a' and c != 'b' and c != 'c' and c != 'd' and c != 'e' and c != 'f':\n",
    "        print(c)\n",
    "\n",
    "print(\"s를 이루는 문자 중에서 한글만 출력, for, not in, 방법 3\")\n",
    "# 구현\n",
    "for c in s:\n",
    "    if c not in['a', 'b', 'c', 'd', 'e', 'f']: # a, b, c, d, e, f가 포함되지 않는 것\n",
    "        print(c)"
   ]
  }
 ],
 "metadata": {
  "kernelspec": {
   "display_name": "Python 3",
   "language": "python",
   "name": "python3"
  },
  "language_info": {
   "codemirror_mode": {
    "name": "ipython",
    "version": 3
   },
   "file_extension": ".py",
   "mimetype": "text/x-python",
   "name": "python",
   "nbconvert_exporter": "python",
   "pygments_lexer": "ipython3",
   "version": "3.13.7"
  }
 },
 "nbformat": 4,
 "nbformat_minor": 5
}
