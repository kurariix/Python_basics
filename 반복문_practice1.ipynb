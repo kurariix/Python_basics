{
 "cells": [
  {
   "cell_type": "code",
   "execution_count": 2,
   "id": "e93be780",
   "metadata": {},
   "outputs": [
    {
     "name": "stdout",
     "output_type": "stream",
     "text": [
      "== 8단 ==\n",
      "8 * 1 = 8\n",
      "8 * 2 = 16\n",
      "8 * 3 = 24\n",
      "8 * 4 = 32\n",
      "8 * 5 = 40\n",
      "8 * 6 = 48\n",
      "8 * 7 = 56\n",
      "8 * 8 = 64\n",
      "8 * 9 = 72\n"
     ]
    }
   ],
   "source": [
    "# 문제: 구구단 8단을 출력해 주세요\n",
    "# 조건: 숫자 1 이외의 값을 사용할 수 없습니다. 소스코드를 수정해주세요\n",
    "# 조건: while문을 사용해주세요\n",
    "\n",
    "\"\"\"\n",
    "출력 양식 \n",
    "== 8단 ==\n",
    "8 * 1 = 8\n",
    "8 * 2 = 16\n",
    "8 * 3 = 24\n",
    "8 * 4 = 32\n",
    "8 * 5 = 40\n",
    "8 * 6 = 48\n",
    "8 * 7 = 56\n",
    "8 * 8 = 64\n",
    "8 * 9 = 72\n",
    "\"\"\"\n",
    "\n",
    "dan = 8\n",
    "i = 1\n",
    "\n",
    "print(\"== {}단 ==\".format(dan))\n",
    "\n",
    "# 수정가능 시작\n",
    "\n",
    "while i <= 9:\n",
    "    print(\"{} * {} = {}\".format(dan, i, dan * i))\n",
    "    i += 1\n"
   ]
  }
 ],
 "metadata": {
  "kernelspec": {
   "display_name": "Python 3",
   "language": "python",
   "name": "python3"
  },
  "language_info": {
   "codemirror_mode": {
    "name": "ipython",
    "version": 3
   },
   "file_extension": ".py",
   "mimetype": "text/x-python",
   "name": "python",
   "nbconvert_exporter": "python",
   "pygments_lexer": "ipython3",
   "version": "3.13.7"
  }
 },
 "nbformat": 4,
 "nbformat_minor": 5
}
