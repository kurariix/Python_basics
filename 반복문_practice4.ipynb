{
 "cells": [
  {
   "cell_type": "code",
   "execution_count": null,
   "id": "ef526cd7",
   "metadata": {},
   "outputs": [],
   "source": [
    "# 문제: 1부터 5까지의 합을 출력해주세요 (개념: while)\n",
    "\n",
    "sum = 1 + 2 + 3 + 4 + 5\n",
    "\n",
    "print(sum)"
   ]
  },
  {
   "cell_type": "code",
   "execution_count": null,
   "id": "6928e448",
   "metadata": {},
   "outputs": [
    {
     "name": "stdout",
     "output_type": "stream",
     "text": [
      "15\n"
     ]
    }
   ],
   "source": [
    "# 문제: 1부터 5까지의 합을 출력해주세요 (개념: while)\n",
    "\n",
    "i = 1\n",
    "sum = 0\n",
    "\n",
    "while i <= 5:\n",
    "    sum += i\n",
    "    i += 1\n",
    "\n",
    "print(s)"
   ]
  },
  {
   "cell_type": "code",
   "execution_count": 2,
   "id": "bec2d069",
   "metadata": {},
   "outputs": [
    {
     "name": "stdout",
     "output_type": "stream",
     "text": [
      "2550\n"
     ]
    }
   ],
   "source": [
    "# 문제: 1부터 100까지의 수 중에서 짝수의 합을 출력해주세요 (개념: while, if, %)\n",
    "\n",
    "i = 1\n",
    "sum = 0\n",
    "\n",
    "while  i <= 100:\n",
    "    if i % 2 == 0:\n",
    "        sum += i\n",
    "    i += 1\n",
    "\n",
    "print(sum)"
   ]
  },
  {
   "cell_type": "code",
   "execution_count": 4,
   "id": "826276de",
   "metadata": {},
   "outputs": [
    {
     "name": "stdout",
     "output_type": "stream",
     "text": [
      "1734\n"
     ]
    }
   ],
   "source": [
    "# 문제: 1부터 100까지의 수 중에서 짝수이고 3의 배수가 아닌 수의 합\n",
    "\n",
    "i = 1\n",
    "sum = 0\n",
    "\n",
    "while i <= 100:\n",
    "    if i % 2 == 0 and i % 3 != 0:\n",
    "        sum += i\n",
    "    i += 1\n",
    "\n",
    "print(sum)"
   ]
  }
 ],
 "metadata": {
  "kernelspec": {
   "display_name": "Python 3",
   "language": "python",
   "name": "python3"
  },
  "language_info": {
   "codemirror_mode": {
    "name": "ipython",
    "version": 3
   },
   "file_extension": ".py",
   "mimetype": "text/x-python",
   "name": "python",
   "nbconvert_exporter": "python",
   "pygments_lexer": "ipython3",
   "version": "3.13.7"
  }
 },
 "nbformat": 4,
 "nbformat_minor": 5
}
