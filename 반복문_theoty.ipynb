{
 "cells": [
  {
   "cell_type": "code",
   "execution_count": null,
   "id": "f3c8829a",
   "metadata": {},
   "outputs": [],
   "source": [
    "# 증가/감소 개념\n",
    "# i = i + 1 => i의 값을 1 증가 시킨다\n",
    "# i += 1 => i의 값을 1 증가 시킨다\n",
    "# i = i - 3 => i의 값을 3 감소 시킨다\n",
    "# i -= 3 => i의 값을 3 감소 시킨다\n",
    "\n",
    "# 나머지\n",
    "# 10 % 3 == 1 => %는 몫이 아닌 나머지를 반환한다\n",
    "# i % 2 == 0 => '참'이라면 i는 짝수라는 뜻이다 "
   ]
  },
  {
   "cell_type": "code",
   "execution_count": null,
   "id": "2933fb30",
   "metadata": {},
   "outputs": [],
   "source": [
    "# 소스코드의 4대 구성요소\n",
    "# 1. 변수\n",
    "# 2. 값\n",
    "# 3. 조건문: if분\n",
    "# 4. 반복문: while문, for문\n",
    "\n",
    "# while문\n",
    "# while문과 if문은 서로 완전히 똑같다\n",
    "# 다만 while문 같은 경우 참일 경우에 끝나지 않는다. 오직 거짓일 경우에만 끝난다\n",
    "# 반복문 안에 반복문을 넣을 수 있다\n",
    "# 그 자체로 3번 실행하는 while문을 5번 실행하면 총 15번 실행된다 "
   ]
  },
  {
   "cell_type": "code",
   "execution_count": null,
   "id": "eb57c490",
   "metadata": {},
   "outputs": [],
   "source": [
    "# while 쓸 때는 이거 먼저 만들어두기 (중요!) -> 무한루프 걸릴 수도\n",
    "\n",
    "i = 1 # 시작 값\n",
    "\n",
    "while i <= 3: #조건\n",
    "\n",
    "\n",
    "    i += 1 # 밑에서 깔아주는(받혀주는) 역할로"
   ]
  }
 ],
 "metadata": {
  "language_info": {
   "name": "python"
  }
 },
 "nbformat": 4,
 "nbformat_minor": 5
}
