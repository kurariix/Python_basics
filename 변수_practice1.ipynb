{
 "cells": [
  {
   "cell_type": "code",
   "execution_count": null,
   "id": "18ad4938",
   "metadata": {},
   "outputs": [
    {
     "name": "stdout",
     "output_type": "stream",
     "text": [
      "5\n",
      "10\n"
     ]
    }
   ],
   "source": [
    "# 문제: 변수 a와 b의 값을 서로 교체 (개념: 변수)\n",
    "# 조건: 숫자 사용 금지\n",
    "# 조건: 사칙연산 금지\n",
    "# 힌트: temp 변수\n",
    "\n",
    "# 콜라와 사이다를 바꾼다고 가정\n",
    "x = 10  # 콜라\n",
    "y = 5   # 사이다    \n",
    "\n",
    "# 구현 시작\n",
    "\n",
    "temp = x  # 변수 temp는 임시로 담을 컵, temp = 10\n",
    "x = y  # x = y\n",
    "y = temp # y = 10\n",
    "\n",
    "# 구현 끝\n",
    "\n",
    "print(x) # 5\n",
    "print(y) # 10"
   ]
  }
 ],
 "metadata": {
  "kernelspec": {
   "display_name": "Python 3",
   "language": "python",
   "name": "python3"
  },
  "language_info": {
   "codemirror_mode": {
    "name": "ipython",
    "version": 3
   },
   "file_extension": ".py",
   "mimetype": "text/x-python",
   "name": "python",
   "nbconvert_exporter": "python",
   "pygments_lexer": "ipython3",
   "version": "3.13.7"
  }
 },
 "nbformat": 4,
 "nbformat_minor": 5
}
