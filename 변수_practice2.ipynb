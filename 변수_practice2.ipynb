{
 "cells": [
  {
   "cell_type": "code",
   "execution_count": 2,
   "id": "0146eaff",
   "metadata": {},
   "outputs": [
    {
     "name": "stdout",
     "output_type": "stream",
     "text": [
      "a: 5\n",
      "b: 10\n",
      "a: 5\n",
      "b: 10\n"
     ]
    }
   ],
   "source": [
    "# 문제: a와 b가 가지고 있는 값을 서로 뒤바꿔주세요\n",
    "# 조건: 아래와 같이 출력 되도록 해주세요\n",
    "\n",
    "# 개념 시작\n",
    "# a라는 데이터 저장공간을 만들고 거기에 5를 집어 넣는다\n",
    "a = 5\n",
    "print(\"a: {}\".format(a))\n",
    "\n",
    "b = 10\n",
    "print(\"b: {}\".format(b))\n",
    "# 개념 끝\n",
    "\n",
    "# 구현 시작\n",
    "# 변수 방법\n",
    "a = 10\n",
    "b = 5\n",
    "\n",
    "# swap 방법\n",
    "c = a\n",
    "a = b\n",
    "b = c\n",
    "\n",
    "# 구현 끝\n",
    "print(\"a: {}\".format(a)) # 출력 => a: 10\n",
    "print(\"b: {}\".format(b)) # 출력 => b: 5"
   ]
  }
 ],
 "metadata": {
  "kernelspec": {
   "display_name": "Python 3",
   "language": "python",
   "name": "python3"
  },
  "language_info": {
   "codemirror_mode": {
    "name": "ipython",
    "version": 3
   },
   "file_extension": ".py",
   "mimetype": "text/x-python",
   "name": "python",
   "nbconvert_exporter": "python",
   "pygments_lexer": "ipython3",
   "version": "3.13.7"
  }
 },
 "nbformat": 4,
 "nbformat_minor": 5
}
