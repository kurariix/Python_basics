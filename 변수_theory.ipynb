{
 "cells": [
  {
   "cell_type": "code",
   "execution_count": null,
   "id": "a96d06a5",
   "metadata": {},
   "outputs": [
    {
     "name": "stdout",
     "output_type": "stream",
     "text": [
      "10\n",
      "6\n",
      "7\n"
     ]
    }
   ],
   "source": [
    "# 미지수 == 변수 (공간)\n",
    "# 변수에는 값 오직 하나\n",
    "# = 기준으로 좌측에 있을 때만 변수\n",
    "\n",
    "# 변수 이름 선언하고 값 넣기\n",
    "x = 10\n",
    "print(x) # 10\n",
    "\n",
    "x = 6\n",
    "print(x) # 6\n",
    "\n",
    "x = 7 \n",
    "print(x) # 7"
   ]
  },
  {
   "cell_type": "code",
   "execution_count": null,
   "id": "1c1cddfe",
   "metadata": {},
   "outputs": [],
   "source": [
    "# 파이썬에서는 서로 다른 자료형은 출력이 안된다 => 타입 에러"
   ]
  }
 ],
 "metadata": {
  "kernelspec": {
   "display_name": "Python 3",
   "language": "python",
   "name": "python3"
  },
  "language_info": {
   "codemirror_mode": {
    "name": "ipython",
    "version": 3
   },
   "file_extension": ".py",
   "mimetype": "text/x-python",
   "name": "python",
   "nbconvert_exporter": "python",
   "pygments_lexer": "ipython3",
   "version": "3.13.7"
  }
 },
 "nbformat": 4,
 "nbformat_minor": 5
}
