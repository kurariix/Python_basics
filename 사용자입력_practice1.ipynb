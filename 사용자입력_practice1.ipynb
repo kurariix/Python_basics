{
 "cells": [
  {
   "cell_type": "code",
   "execution_count": null,
   "id": "6b8175ae",
   "metadata": {},
   "outputs": [],
   "source": [
    "# split(): 문장을 쪼개는 함수 -> 나누는 기준을 안쪽에 넣어준다"
   ]
  },
  {
   "cell_type": "code",
   "execution_count": null,
   "id": "3e465abb",
   "metadata": {},
   "outputs": [],
   "source": [
    "# 문제: 사용자에게 문장 1개를 입력받아서 구분자(,)를 기준으로 나눠주세요\n",
    "\n",
    "print(\"문장을 입력해주세요: \",end = '')\n",
    "line = input() # 1, 2, 3\n",
    "l = line.split(',') # ㅣ = (1, 2, 3).split(',')\n",
    "print(l) # ['1', '2', '3'] -> 배열 형태로 담아서 이렇게 쪼개짐\n",
    "\n",
    "# 출력도 가능\n",
    "print(l[0])\n",
    "print(l[1])\n",
    "print(l[2])"
   ]
  },
  {
   "cell_type": "code",
   "execution_count": null,
   "id": "ea4c9545",
   "metadata": {},
   "outputs": [],
   "source": [
    "# 문제: 사용자에게 문장 1개를 입력받아서 구분자(,)를 기준으로 나눠주세요\n",
    "\n",
    "print(\"문장을 출력해주세요: \",end = '')\n",
    "s = input().split(',') # 한 줄에 쓰기도 가능 but 공백 포함\n",
    "print(s)"
   ]
  },
  {
   "cell_type": "code",
   "execution_count": null,
   "id": "fb337d7e",
   "metadata": {},
   "outputs": [],
   "source": [
    "# strip():양 옆 공백을 지워준다\n",
    "# 다만, 가운데 공백은 지워주지 않는다"
   ]
  },
  {
   "cell_type": "code",
   "execution_count": null,
   "id": "b7994c2d",
   "metadata": {},
   "outputs": [],
   "source": [
    "# 문제: 사용자에게 문장 1개를 입력받고, strip 후, 구분자(',')를 기준으로 나눠서 출력해주세요\n",
    "\n",
    "print(\"문장을 출력해주세요: \",end = '')\n",
    "s = input().strip().split(',') \n",
    "print(s)"
   ]
  }
 ],
 "metadata": {
  "language_info": {
   "name": "python"
  }
 },
 "nbformat": 4,
 "nbformat_minor": 5
}
