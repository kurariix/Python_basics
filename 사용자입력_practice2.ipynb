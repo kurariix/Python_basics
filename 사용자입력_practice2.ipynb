{
 "cells": [
  {
   "cell_type": "code",
   "execution_count": 1,
   "id": "6e2efdae",
   "metadata": {},
   "outputs": [
    {
     "name": "stdout",
     "output_type": "stream",
     "text": [
      "숫자 2개를 입력해주세요: 1 + 2 = 3입니다\n"
     ]
    }
   ],
   "source": [
    "# 문제: 사용자에게 숫자 2개를 입력받아서, 더한 결과를 출력해주세요\n",
    "\n",
    "print(\"숫자 2개를 입력해주세요: \",end = '')\n",
    "num1 = int(input())\n",
    "num2 = int(input())\n",
    "\n",
    "print(\"{} + {} = {}입니다\".format(num1, num2, num1 + num2))"
   ]
  },
  {
   "cell_type": "code",
   "execution_count": null,
   "id": "aa824cc7",
   "metadata": {},
   "outputs": [],
   "source": [
    "# 문제: 사용자에게 숫자 2개를 입력받아서, 더한 결과를 출력해주세요\n",
    "\n",
    "line = input().strip().split(' ') # 공백 제거, 띄어쓰기 기준\n",
    "line[0] = int(line[0])  # 정수로\n",
    "line[1] = int(line[1])\n",
    "\n",
    "print(line[0] + line[1]) # 더해서 출력"
   ]
  },
  {
   "cell_type": "code",
   "execution_count": null,
   "id": "09ed8919",
   "metadata": {},
   "outputs": [],
   "source": [
    "# map(): 반복 가능한 자료형의 모든 요소에 동일한 함수를 한 번에 적용하고, 그 결과를 모아서 반환 할 때 사용하는 함수\n",
    "# map(함수, 반복 가능한 자료형)"
   ]
  },
  {
   "cell_type": "code",
   "execution_count": null,
   "id": "4e84e046",
   "metadata": {},
   "outputs": [],
   "source": [
    "# 문제: 사용자에게 숫자 3개를 입력받아서, 더한 결과를 출력해주세요. map, strip을 사용해주세요.\n",
    "\n",
    "a, b = map(int, input().strip().split(' ')) # 데이터가 2개니까 변수도 2개여야 함\n",
    "print( a+ b)"
   ]
  }
 ],
 "metadata": {
  "kernelspec": {
   "display_name": "Python 3",
   "language": "python",
   "name": "python3"
  },
  "language_info": {
   "codemirror_mode": {
    "name": "ipython",
    "version": 3
   },
   "file_extension": ".py",
   "mimetype": "text/x-python",
   "name": "python",
   "nbconvert_exporter": "python",
   "pygments_lexer": "ipython3",
   "version": "3.13.7"
  }
 },
 "nbformat": 4,
 "nbformat_minor": 5
}
