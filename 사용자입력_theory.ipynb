{
 "cells": [
  {
   "cell_type": "code",
   "execution_count": 1,
   "id": "c8d251a5",
   "metadata": {},
   "outputs": [
    {
     "name": "stdout",
     "output_type": "stream",
     "text": [
      "hihi\n"
     ]
    }
   ],
   "source": [
    "'''\n",
    "기본적으로 뉴라인을 넣지않아도 줄바꿈이 되지만, \n",
    "줄바꿈을 하지않고 그냥 출력을 하고싶다면\n",
    "뒤에 쉼표(,) 쓰고 end = ' ' 넣어주면\n",
    "이어져서 출력된다\n",
    "'''\n",
    "\n",
    "print('hi', end = '')\n",
    "print('hi')"
   ]
  },
  {
   "cell_type": "code",
   "execution_count": null,
   "id": "6032fffe",
   "metadata": {},
   "outputs": [
    {
     "name": "stdout",
     "output_type": "stream",
     "text": [
      "문장을 입력해주세요: 10\n"
     ]
    }
   ],
   "source": [
    "# 입력함수 input()\n",
    "\n",
    "print('문장을 입력해주세요: ', end = '')\n",
    "line = input() # line 안에 입력한 문장이 들어감\n",
    "print(line) # line은 '문장'임"
   ]
  },
  {
   "cell_type": "code",
   "execution_count": null,
   "id": "57856896",
   "metadata": {},
   "outputs": [
    {
     "name": "stdout",
     "output_type": "stream",
     "text": [
      "문장을 입력해주세요: 135\n"
     ]
    }
   ],
   "source": [
    "# line을 정수형으로\n",
    "\n",
    "print('문장을 입력해주세요: ', end = '')\n",
    "line = input() \n",
    "line = int(line)\n",
    "print(line + 123) # 문장이 숫자가 되면서 정수 계산"
   ]
  }
 ],
 "metadata": {
  "kernelspec": {
   "display_name": "Python 3",
   "language": "python",
   "name": "python3"
  },
  "language_info": {
   "codemirror_mode": {
    "name": "ipython",
    "version": 3
   },
   "file_extension": ".py",
   "mimetype": "text/x-python",
   "name": "python",
   "nbconvert_exporter": "python",
   "pygments_lexer": "ipython3",
   "version": "3.13.7"
  }
 },
 "nbformat": 4,
 "nbformat_minor": 5
}
