{
 "cells": [
  {
   "cell_type": "code",
   "execution_count": null,
   "id": "1f1f0e54",
   "metadata": {},
   "outputs": [],
   "source": [
    "# 숫자형 \n",
    "\n",
    "# 1. 정수: 양수, 음수, 0\n",
    "x = 1\n",
    "y =  - 2\n",
    "\n",
    "# 2. 실수: 소수점이 있는 숫자\n",
    "x = 3.14\n",
    "y = 1.0\n",
    "\n",
    "# 3. 복소수: 실수와 허수 요소를 가진 숫자\n",
    "z = 3 + 4j"
   ]
  },
  {
   "cell_type": "code",
   "execution_count": null,
   "id": "0c616372",
   "metadata": {},
   "outputs": [],
   "source": [
    "# 문자열\n",
    "name = \"김예인\"\n",
    "message = \"Hello, Wolrd!\""
   ]
  },
  {
   "cell_type": "code",
   "execution_count": null,
   "id": "a00f8aab",
   "metadata": {},
   "outputs": [],
   "source": [
    "# Boolean: True/False\n",
    "is_happy = True\n",
    "is_sad = False\n",
    "\n",
    "x = 5\n",
    "y = 10\n",
    "result = x < y"
   ]
  },
  {
   "cell_type": "code",
   "execution_count": null,
   "id": "8890e5bc",
   "metadata": {},
   "outputs": [],
   "source": [
    "# 리스트: 다수의 데이터 저장, 대괄호를 사용하여 정의, 다른 자료형의 요소 가능\n",
    "fruits = [\"apple\", \"banana\", \"cherry\"]\n",
    "\n",
    "first_fruit = fruit[0] # \"apple\"\n",
    "second_fruit = fruit[1] # \"banana\"\n",
    "third_fruit = fruit[2] # \"cherry\""
   ]
  },
  {
   "cell_type": "code",
   "execution_count": null,
   "id": "4b948891",
   "metadata": {},
   "outputs": [],
   "source": [
    "# 튜플: 리스트와 유사, 하지만 한 번 생성하면 변경 불가 -> 안정성이 중요한 상황에서 사용, 괄호 사용\n",
    "\n",
    "fruit = (\"apple\", \"banana\", \"cherry\")\n",
    "\n",
    "first_fruit = fruit[0] # \"apple\"\n",
    "second_fruit = fruit[1] # \"banana\"\n",
    "third_fruit = fruit[2] # \" cherry\""
   ]
  },
  {
   "cell_type": "code",
   "execution_count": null,
   "id": "d226c21d",
   "metadata": {},
   "outputs": [],
   "source": [
    "# 딕셔너리: 키(key) - 값(Value) 쌍으로 구성, 키는 값을 식별하는 역할\n",
    "# 주어진 키를 이용하여 키에 해당하는 값을 찾을 수 있음 => 키 값은 유일해야 하므로 동일한 키 가뵤 사용 X\n",
    "# 순서는 중요하지 않음, 중괄호 사용\n",
    "\n",
    "# key 'name', 'age', 'city'\n",
    "# value 'John', 30, 'new York'\n",
    "person = {'name': 'John', 'age':30, 'city':'New York'}\n",
    "\n",
    "name = person['name'] # \"John\"\n",
    "age = person['age'] # 30\n",
    "city = person['city'] # 'New York'"
   ]
  },
  {
   "cell_type": "code",
   "execution_count": null,
   "id": "84b976e3",
   "metadata": {},
   "outputs": [],
   "source": [
    "# 집합(Set): 중복된 값이 없는 유일한 값들의 모임(순서 X) -> 인덱스로 접근 X\n",
    "# 대신 집합에 특정 값이 포함되어 있는지 확인 가능, 다양한 연산 지원\n",
    "# 중괄호 사용\n",
    "\n",
    "# 집합은 중복된 값을 포함할 수 없다\n",
    "fruits = {'apple', 'banana', 'cherry', 'apple'}  # {'banana', 'cherry', apple'}\n",
    "\n",
    "print('apple' in fruits) # True\n",
    "print('Orange' in fruits) # False"
   ]
  }
 ],
 "metadata": {
  "language_info": {
   "name": "python"
  }
 },
 "nbformat": 4,
 "nbformat_minor": 5
}
