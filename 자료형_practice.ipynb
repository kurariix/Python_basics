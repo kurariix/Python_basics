{
 "cells": [
  {
   "cell_type": "code",
   "execution_count": null,
   "id": "750d98e4",
   "metadata": {},
   "outputs": [
    {
     "name": "stdout",
     "output_type": "stream",
     "text": [
      "1020\n"
     ]
    }
   ],
   "source": [
    "# 문제: 두개의 숫자를 연결해서 새로운 문장을 만들어주세요 (출력: \"1020\")\n",
    "\n",
    "a = 10\n",
    "b = 20\n",
    "\n",
    "print(str(a) + str(b))\n"
   ]
  },
  {
   "cell_type": "code",
   "execution_count": null,
   "id": "d7720982",
   "metadata": {},
   "outputs": [
    {
     "name": "stdout",
     "output_type": "stream",
     "text": [
      "9\n"
     ]
    }
   ],
   "source": [
    "# 문제: 두개의 숫자문장을 더해서 새 정수를 만들어주세요 (출력: 9)\n",
    "\n",
    "a = '3'\n",
    "b = '6'\n",
    "\n",
    "print(int(a) + int(b))\n"
   ]
  },
  {
   "cell_type": "code",
   "execution_count": null,
   "id": "e92049b3",
   "metadata": {},
   "outputs": [
    {
     "name": "stdout",
     "output_type": "stream",
     "text": [
      "9.2\n"
     ]
    }
   ],
   "source": [
    "# 두개의 숫자문장을 더해서 새 실수를 만들어주세요 (출력: 9.2)\n",
    "\n",
    "a = '3.1'\n",
    "b = '6.1'\n",
    "\n",
    "print(float(a) + float(b))\n"
   ]
  },
  {
   "cell_type": "code",
   "execution_count": 8,
   "id": "a63e56f5",
   "metadata": {},
   "outputs": [],
   "source": [
    "# 2개 실수문장을 정수화하여 더해주세요 (출력: 9)\n",
    "\n",
    "a = '3.1'\n",
    "b = '6.1'\n",
    "\n",
    "a = float(a)\n",
    "b = float(b) # 출력: 9.2\n",
    "\n",
    "a = int(a) # 'int'는 이중적으로 작동을 할 수 있다 (정수화)\n",
    "b = int(b)\n",
    "\n"
   ]
  },
  {
   "cell_type": "code",
   "execution_count": 9,
   "id": "a6e00eb8",
   "metadata": {},
   "outputs": [
    {
     "name": "stdout",
     "output_type": "stream",
     "text": [
      "9\n"
     ]
    }
   ],
   "source": [
    "# 2개 실수문장을 정수화하여 더해주세요 (출력: 9) - 정답\n",
    "\n",
    "a = '3.1'\n",
    "b = '6.1'\n",
    "\n",
    "# 조심! 함상 소괄호 계산할 때는 안쪽을 먼저 계산 \n",
    "print(int(float(a)) + int(float(b))) # float 먼저 진행되고 그 다음 int 진행"
   ]
  }
 ],
 "metadata": {
  "kernelspec": {
   "display_name": "Python 3",
   "language": "python",
   "name": "python3"
  },
  "language_info": {
   "codemirror_mode": {
    "name": "ipython",
    "version": 3
   },
   "file_extension": ".py",
   "mimetype": "text/x-python",
   "name": "python",
   "nbconvert_exporter": "python",
   "pygments_lexer": "ipython3",
   "version": "3.13.7"
  }
 },
 "nbformat": 4,
 "nbformat_minor": 5
}
