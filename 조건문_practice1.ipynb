{
 "cells": [
  {
   "cell_type": "code",
   "execution_count": 1,
   "id": "1a6a37fd",
   "metadata": {},
   "outputs": [
    {
     "name": "stdout",
     "output_type": "stream",
     "text": [
      "미성년입니다\n"
     ]
    }
   ],
   "source": [
    "# 문제: 나이에 따른 올바른 말이 나오도록 해주세요 ( 개념: 조건문, if문)\n",
    "\n",
    "age = 10\n",
    "\n",
    "if age < 20:\n",
    "    print(\"미성년입니다\")\n",
    "\n",
    "if age >= 20:\n",
    "    print(\"성인입니다\")"
   ]
  }
 ],
 "metadata": {
  "kernelspec": {
   "display_name": "Python 3",
   "language": "python",
   "name": "python3"
  },
  "language_info": {
   "codemirror_mode": {
    "name": "ipython",
    "version": 3
   },
   "file_extension": ".py",
   "mimetype": "text/x-python",
   "name": "python",
   "nbconvert_exporter": "python",
   "pygments_lexer": "ipython3",
   "version": "3.13.7"
  }
 },
 "nbformat": 4,
 "nbformat_minor": 5
}
