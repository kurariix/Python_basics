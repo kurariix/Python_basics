{
 "cells": [
  {
   "cell_type": "code",
   "execution_count": null,
   "id": "b7f33b30",
   "metadata": {},
   "outputs": [
    {
     "name": "stdout",
     "output_type": "stream",
     "text": [
      "참\n",
      "참1\n",
      "참2\n",
      "거짓3\n",
      "거짓4\n",
      "참7\n"
     ]
    }
   ],
   "source": [
    "# 문제: 실행되는 출력문에는 '참', 그렇지않으면 '거짓'이라고 적어주세요 (개념: 조건문, if문)\n",
    "# 조건: '참1', '참2', '거짓1' 이런 순으로 적어주세요\n",
    "\n",
    "# 개념 시작\n",
    "if( True ):\n",
    "    print(\"참\")\n",
    "\n",
    "if( False ):\n",
    "    print(\"거짓\")\n",
    "# 개념 끝\n",
    "\n",
    "# 문제 시작\n",
    "a = 10\n",
    "\n",
    "# '==' => 같다\n",
    "if ( a == 10 ):\n",
    "  print(\"참1\")\n",
    "\n",
    "# `!=` => 같지 않다.\n",
    "if ( a != 10 ):\n",
    "  print(\"거짓1\")\n",
    "\n",
    "if ( a > 10 ):\n",
    "  print(\"거짓2\")\n",
    "\n",
    "if ( a >= 10 ):\n",
    "  print(\"참2\")\n",
    "\n",
    "b = 10\n",
    "\n",
    "if ( a == b ):\n",
    "  print(\"참3\")\n",
    "\n",
    "# c 에는 true or false 이 담긴다.\n",
    "c = a != b\n",
    "\n",
    "if ( c ):\n",
    "  print(\"거짓3\")\n",
    "\n",
    "if ( c == False ):\n",
    "  print(\"참4\")\n",
    "\n",
    "# `not` => 반전\n",
    "if ( not c ):\n",
    "  print(\"참5\")\n",
    "\n",
    "if ( not(not c) ):\n",
    "  print(\"거짓4\")\n",
    "\n",
    "d = True\n",
    "\n",
    "if ( c != d ):\n",
    "  print(\"참6\")\n",
    "\n",
    "if ( 10 > 5 and -6 > -10 and 10 != 10 ): # True and True and 10!= 10 => True and False => False (둘 다 참이여야 참)\n",
    "  print(\"거짓5\")\n",
    "\n",
    "if ( 10 < 5 and -6 < -10 and 10 != 10 or 10 > 5 ):      # False and False or 10 > 5 => False or True => True (한쪽이라도 참이면 참)\n",
    "  print(\"참7\")\n",
    "# 문제끝\n",
    "\n"
   ]
  }
 ],
 "metadata": {
  "kernelspec": {
   "display_name": "Python 3",
   "language": "python",
   "name": "python3"
  },
  "language_info": {
   "codemirror_mode": {
    "name": "ipython",
    "version": 3
   },
   "file_extension": ".py",
   "mimetype": "text/x-python",
   "name": "python",
   "nbconvert_exporter": "python",
   "pygments_lexer": "ipython3",
   "version": "3.13.7"
  }
 },
 "nbformat": 4,
 "nbformat_minor": 5
}
