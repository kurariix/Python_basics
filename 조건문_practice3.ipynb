{
 "cells": [
  {
   "cell_type": "code",
   "execution_count": 3,
   "id": "78560cae",
   "metadata": {},
   "outputs": [
    {
     "name": "stdout",
     "output_type": "stream",
     "text": [
      "20대\n"
     ]
    }
   ],
   "source": [
    "# 문제: 10대, 20대, 30대 중 나이에 맞는 변수를 출력해주세요\n",
    "\n",
    "# age는 25, 15로 바궈서 실행해보세요\n",
    "age = 25\n",
    "\n",
    "if 10 <= age < 20:\n",
    "    print(\"10대\")\n",
    "elif 20 <= age < 30:\n",
    "    print(\"20대\")\n",
    "elif 30 <= age < 40:\n",
    "    print(\"30대\")"
   ]
  },
  {
   "cell_type": "code",
   "execution_count": null,
   "id": "bf9a76b6",
   "metadata": {},
   "outputs": [
    {
     "name": "stdout",
     "output_type": "stream",
     "text": [
      "30대\n"
     ]
    }
   ],
   "source": [
    "# 문제: 10대, 20대, 30대 중 나이에 맞는 변수를 출력해주세요 (정답)\n",
    "\n",
    "# age는 25, 15로 바궈서 실행해보세요\n",
    "age = 35\n",
    "\n",
    "if (age >= 10 and age <= 19):\n",
    "    print(\"10대\")\n",
    "\n",
    "elif(age >= 20 and age <= 29):\n",
    "    print(\"20대\")\n",
    "\n",
    "elif(age >= 30 and age <= 39):\n",
    "    print(\"30대\")"
   ]
  },
  {
   "cell_type": "code",
   "execution_count": null,
   "id": "27869c9e",
   "metadata": {},
   "outputs": [],
   "source": [
    "# 문제: 10대, 20대, 30대 중 나이에 맞는 변수를 출력해주세요 (정답)\n",
    "\n",
    "# age는 25, 15로 바궈서 실행해보세요\n",
    "age = 35\n",
    "\n",
    "if (age >= 10):\n",
    "    if(age <= 19):  # 다중  if문\n",
    "        print(\"10대\")\n",
    "elif(age >= 20 and age <= 29):\n",
    "    print(\"20대\")\n",
    "\n",
    "elif(age >= 30 and age <= 39):\n",
    "    print(\"30대\")"
   ]
  }
 ],
 "metadata": {
  "kernelspec": {
   "display_name": "Python 3",
   "language": "python",
   "name": "python3"
  },
  "language_info": {
   "codemirror_mode": {
    "name": "ipython",
    "version": 3
   },
   "file_extension": ".py",
   "mimetype": "text/x-python",
   "name": "python",
   "nbconvert_exporter": "python",
   "pygments_lexer": "ipython3",
   "version": "3.13.7"
  }
 },
 "nbformat": 4,
 "nbformat_minor": 5
}
