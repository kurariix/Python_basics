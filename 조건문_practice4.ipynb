{
 "cells": [
  {
   "cell_type": "code",
   "execution_count": null,
   "id": "f4c3fe63",
   "metadata": {},
   "outputs": [
    {
     "name": "stdout",
     "output_type": "stream",
     "text": [
      "==정답 v1==\n",
      "할인 대상이 아닙니다\n",
      "==정답 v2==\n",
      "할인 대상이 아닙니다\n"
     ]
    }
   ],
   "source": [
    "# 문제: 할인 대상인지 아닌지 출력해주세요\n",
    "# 조건: 나이가 19세 이하거나 60세 이상이면 할인 대상입니다\n",
    "# 조건: 'and, or' 없이 풀어야 합니다\n",
    "# 조건: 2가지 이상의 방법으로 풀어야 합니다\n",
    "\n",
    "age = 33\n",
    "\n",
    "# == 정답 v1 ==\n",
    "print(\"==정답 v1==\")\n",
    "if age <= 19:\n",
    "    if age >= 60:\n",
    "        print(\"할인 대상입니다.\")\n",
    "else: \n",
    "    print(\"할인 대상이 아닙니다\")\n",
    "\n",
    "# == 정답 v2 ==\n",
    "print(\"==정답 v2==\")\n",
    "if age <= 19:\n",
    "    print(\"할인 대상입니다\")\n",
    "elif age >= 60:\n",
    "    print(\"할인 대상입니다\")\n",
    "else:\n",
    "    print(\"할인 대상이 아닙니다\")\n"
   ]
  },
  {
   "cell_type": "code",
   "execution_count": null,
   "id": "7d4b67f3",
   "metadata": {},
   "outputs": [],
   "source": [
    "# 문제 : 할인 대상인지 아닌지 출력해주세요. (정답)\n",
    "# 조건 : 나이가 19세 이하이거나 60세 이상이면 할인 대상입니다.\n",
    "# 조건 : `and, or`없이 풀어야 합니다.\n",
    "# 조건 : 2가지 이상의 방법으로 풀어야 합니다.\n",
    "\n",
    "age = 33\n",
    "\n",
    "print(\"== 정답 v1 ==\")\n",
    "\n",
    "if age <= 19:\n",
    "  print(\"할인 대상입니다.\")\n",
    "\n",
    "if age >= 60:\n",
    "  print(\"할인 대상입니다.\")\n",
    "\n",
    "if age > 19:\n",
    "  if age < 60:\n",
    "    print(\"할인 대상이 아닙니다.\")\n",
    "\n",
    "print(\"== 정답 v2 ==\")\n",
    "\n",
    "if age < 20:\n",
    "  print(\"할인 대상입니다.\")\n",
    "elif age >= 60:\n",
    "  print(\"할인 대상입니다.\")\n",
    "else:\n",
    "  print(\"할인 대상이 아닙니다.\")"
   ]
  }
 ],
 "metadata": {
  "kernelspec": {
   "display_name": "Python 3",
   "language": "python",
   "name": "python3"
  },
  "language_info": {
   "codemirror_mode": {
    "name": "ipython",
    "version": 3
   },
   "file_extension": ".py",
   "mimetype": "text/x-python",
   "name": "python",
   "nbconvert_exporter": "python",
   "pygments_lexer": "ipython3",
   "version": "3.13.7"
  }
 },
 "nbformat": 4,
 "nbformat_minor": 5
}
