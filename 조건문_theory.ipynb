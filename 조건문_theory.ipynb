{
 "cells": [
  {
   "cell_type": "code",
   "execution_count": null,
   "id": "2f7c013c",
   "metadata": {},
   "outputs": [],
   "source": [
    "# 연산자 종류\n",
    "\n",
    "# 대입연산\n",
    "# = : 넣는다\n",
    "\n",
    "# 사칙연산\n",
    "# + : 더하기\n",
    "# - : 뺴기\n",
    "# * : 곱하기\n",
    "# / : 나누기\n",
    "\n",
    "# 논리연산\n",
    "# == : 같다\n",
    "# != : 다르다\n",
    "# > : 크다(초과)\n",
    "#  < : 작다 (미만)\n",
    "# >= : 크거나 같다 (이상)\n",
    "# <= : 작거나 같다 (이하)\n",
    "# and : 그리고(and)\n",
    "# or : 또는 (or)"
   ]
  },
  {
   "cell_type": "code",
   "execution_count": null,
   "id": "c346a03b",
   "metadata": {},
   "outputs": [],
   "source": [
    "# 소스코드의 5대 구성요소\n",
    "\n",
    "# 1. 변수\n",
    "# 변수 선언 :  a = 10\n",
    "# a를 변수명이라고 한다\n",
    "# 변수의 값을 바꿀 수 있다\n",
    "# 변수는 값을 넣을 때 빼고는 값(자신이 가지고 있는) 취급을 해야 한다\n",
    "\n",
    "# 2. 값\n",
    "# 종류\n",
    "# 숫자: 1, 2, 3.14\n",
    "# 문자열: \"a\", \"\", \"abc\",\"\\n\"\n",
    "# 논리형/Boolean: True, False, 1 == 1\n",
    "\n",
    "# 3. 함수 \n",
    "# 종류\n",
    "# 내장함수\n",
    "# 사용자정의 함수\n",
    "\n",
    "# 4. 조건문\n",
    "# if\n",
    "# elif: if 뒤에 불을 수 있다 -> 역할: 여러 if문을 한 덩어리로 만들어준다\n",
    "# else: if나 elif 뒤에 붙을 수 있다 -> 역할: 위에서 모든 경우가 실패했을 때 실행된다\n",
    "\n",
    "# 5. 반복문\n",
    "# for\n",
    "# while "
   ]
  },
  {
   "cell_type": "code",
   "execution_count": null,
   "id": "c1ea7af7",
   "metadata": {},
   "outputs": [],
   "source": [
    "# 문제: 보기와 같은 숫자를 고르시오 보기: a = 70\n",
    "\n",
    "if( a == 10):\n",
    "     print(10)\n",
    "elif(a == 20):\n",
    "     print(20)\n",
    "elif(a == 30):\n",
    "     print(30)\n",
    "elif(a == 40):\n",
    "     print(40)\n",
    "else:\n",
    "     print(\"그외\")\n",
    "\n",
    "\n",
    "# 무조건 if문은 'if'로 시작해야 한다!\n",
    "# elif로 끝나도 되고 else는 없어도 된다 (반대로 elif말고 else로 끝나도 상관 X)\n",
    "# elif는 대신 조건이 맞아야 된다"
   ]
  }
 ],
 "metadata": {
  "language_info": {
   "name": "python"
  }
 },
 "nbformat": 4,
 "nbformat_minor": 5
}
