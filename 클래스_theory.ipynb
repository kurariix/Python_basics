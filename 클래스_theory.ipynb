{
 "cells": [
  {
   "cell_type": "code",
   "execution_count": null,
   "id": "e2da99cb",
   "metadata": {},
   "outputs": [],
   "source": [
    "'''\n",
    "파이썬\n",
    " - 객체지향 언어\n",
    "\n",
    "객체 (Object) -> 폴더 역할\n",
    " - 추상화: 필요한 부분만 추출\n",
    "\n",
    "객체 지향 프로그래밍 (OOP)\n",
    "'''"
   ]
  },
  {
   "cell_type": "code",
   "execution_count": null,
   "id": "eec5ec6b",
   "metadata": {},
   "outputs": [
    {
     "data": {
      "text/plain": [
       "'\\n클래스\\n - 객체를 표현하기 위한 문법의 일종\\n\\n'"
      ]
     },
     "execution_count": 1,
     "metadata": {},
     "output_type": "execute_result"
    }
   ],
   "source": [
    "'''\n",
    "클래스\n",
    " - 객체를 표현하기 위한 문법의 일종 -> 프로그래밍으로 객체를 만들 때 사용하는 것\n",
    " - OOP에서 가장 기본이 되는 개념\n",
    " - 특정한 대상을 만들기 위한 설계도 또는 틀\n",
    "\n",
    "클래스로 만들 수 있는 것\n",
    " - 속성: attribute (데이터)\n",
    " - 능력(기능): method\n",
    "\n",
    "속성 (Attribute: 데이터)\n",
    "  - 객체의 상태나 특징\n",
    "  - '변수'로 표현\n",
    "  ex) 이름, 나이\n",
    "\n",
    "메서드 (Method: 기능/동작)\n",
    " - 클래스로 만들어지는 객체가 수행할 수 있는 동작을 나타낸다\n",
    " - 클래스 안에 정의된 '함수'로 표현\n",
    "ex) 걷다(), 출력하다()\n",
    "\n",
    "\n",
    "붕어빵으로 비유\n",
    "\n",
    "클래스(Class): 대상을 만드는 설계도/틀 -> 붕어빵 틀\n",
    "객체(Object): 클래스 틀로 찍어낸 실제 사물 -> 실제 붕어빵\n",
    "인스턴스(Instance): 메모리에 실체화된 객체 그 자체 -> 지금 내 손에 팥 붕어빵\n",
    "\n",
    "* 하나의 클래스(붕어빵 틀)로 수백, 수천 개의 객체(붕어빵)을 만들 수 있다! \n",
    "\n",
    "\n",
    "클래스의 장점\n",
    " - 코드를 재사용할 수 있다\n",
    " - 데이터와 기능을 구조적으로 관리할 수 있다\n",
    "'''"
   ]
  },
  {
   "cell_type": "code",
   "execution_count": null,
   "id": "91d4d2ad",
   "metadata": {},
   "outputs": [],
   "source": [
    "# 1. 클래스 정의\n",
    "# 클래스 이름은 보통 대문자로 시작\n",
    "\n",
    "class Dog:\n",
    "    # 2. __init__ 메서드 (생성자)\n",
    "    # 객체를 만들 때 (초기화 할 때) 자동으로 호출\n",
    "    def __init__(self, name, breed):\n",
    "        # self: 만들어지고 있는 객체 자신을 가리킨다\n",
    "        # 속성 (데이터) 설정\n",
    "        self.name = name\n",
    "        self.breed = breed # 품종 속성\n",
    "\n",
    "    # 3. 일반 메서드 (기능)\n",
    "    def bark(self):\n",
    "        print(\"{self.name}이(가) 멍멍 짓습니다!\")"
   ]
  },
  {
   "cell_type": "code",
   "execution_count": null,
   "id": "57a1a0bd",
   "metadata": {},
   "outputs": [],
   "source": [
    "# 2. 객체 생성 (인스턴스화)\n",
    "# 클래스 이름을 함수처럼 호출하면 객체 만들어짐. 이때 __init__메서드 실행\n",
    "\n",
    "# Dog 클래스로 'my_dog' 객체 생성\n",
    "my_dog = Dog(\"맥스\", \"골든 리트리버\")\n",
    "\n",
    "# Dog 클래스로 'your_dog' 객체 생성\n",
    "your_dog = Dog(\"바비\", \"푸들\")"
   ]
  },
  {
   "cell_type": "code",
   "execution_count": null,
   "id": "3bfa2e1e",
   "metadata": {},
   "outputs": [],
   "source": [
    "# 3. 메서드 호출 및 속성 접근\n",
    "# 생성된 객체를 통해 그 객체의 기능 bark()를 실행하거나 속성 name, breed에 접근할 수 있음\n",
    "\n",
    "# 속성 접근\n",
    "print(\"우리 강아지 이름은 {my_dog.name}입니다\")\n",
    "\n",
    "# 메서드 호출\n",
    "my_dog.bark()\n",
    "\n",
    "your_dog.bark()"
   ]
  }
 ],
 "metadata": {
  "kernelspec": {
   "display_name": "Python 3",
   "language": "python",
   "name": "python3"
  },
  "language_info": {
   "codemirror_mode": {
    "name": "ipython",
    "version": 3
   },
   "file_extension": ".py",
   "mimetype": "text/x-python",
   "name": "python",
   "nbconvert_exporter": "python",
   "pygments_lexer": "ipython3",
   "version": "3.13.7"
  }
 },
 "nbformat": 4,
 "nbformat_minor": 5
}
