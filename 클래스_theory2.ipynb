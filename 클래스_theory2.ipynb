{
 "cells": [
  {
   "cell_type": "code",
   "execution_count": null,
   "id": "557f5e50",
   "metadata": {},
   "outputs": [
    {
     "name": "stdout",
     "output_type": "stream",
     "text": [
      "hi\n",
      "<class 'int'>\n"
     ]
    }
   ],
   "source": [
    "\n",
    "# 클래스 만들기\n",
    "class Person: # 사람을 만드는 설계도\n",
    "    def Hello(self):\n",
    "        print(\"hi\")\n",
    "\n",
    "# 클래스를 사용하는 방법\n",
    "jin = Person() # jin은 Person()의 인스턴스(진짜 객체)\n",
    "jin.Hello() # Person() 안의 Hello()를 동작시키는 법 -> 인스턴스로 일을 시켜야 함\n",
    "\n",
    "# int, 리스트, 딕셔너리도 클래스로 정의되어 있다\n",
    "a = 10\n",
    "print(type(a)) # type(): 자료형 확인 가능\n",
    "\n",
    "b = [1, 2, 3]\n",
    "print(type(b))\n",
    "\n",
    "c[\"x\" : 1, \"y\" : 2]\n",
    "print(type(c))\n",
    "\n",
    "a = list(renge(10))\n",
    "b = list(renge(10))\n",
    "# a, b는 객체다\n",
    "# a, b는 list의 클래스 인스턴스다 "
   ]
  },
  {
   "cell_type": "code",
   "execution_count": null,
   "id": "94713c25",
   "metadata": {},
   "outputs": [],
   "source": [
    "'''\n",
    "인스턴스\n",
    " - 어떠한 클래스를 기반으로 만들어진 실제 객체 (클래스와의 관계)\n",
    " -> '객체'는 맞지만 특정 클래스에서 만들어진 것을 강조\n",
    "\n",
    "\n",
    "** 정리 **\n",
    "클래스: 설계도\n",
    "인스턴스: 설계도로 만든 실제 객체\n",
    "객체: 인스턴스랑 거의 같은 말\n",
    "\n",
    "객체가 객체를 지칭할 때 -> 객체 (Object)\n",
    "\n",
    "객체가 클래스와 연관지어서 지칭할 때 -> 인스턴스(instance)\n",
    "\n",
    "'''"
   ]
  },
  {
   "cell_type": "code",
   "execution_count": null,
   "id": "886bcb08",
   "metadata": {},
   "outputs": [],
   "source": [
    "# 빈 클래스 생성하는 법\n",
    "class Person():\n",
    "    pass"
   ]
  },
  {
   "cell_type": "code",
   "execution_count": null,
   "id": "4a41bbb1",
   "metadata": {},
   "outputs": [],
   "source": [
    "\n",
    "class Person():\n",
    "    def Hello(self): # 항상 매개변수 첫 줄에는 'self'를 넣어야 한다\n",
    "        print(\"Hello\")\n",
    "\n",
    "    def hi(self):\n",
    "        self.Hello() # 'self'는 리모컨 이름 -> 클래스에서 메서드가 다른 메서드를 호출하고 싶을 때 사용\n",
    "\n",
    "jin = Person() # Person 인스턴스 jin\n",
    "jin.hi() "
   ]
  }
 ],
 "metadata": {
  "kernelspec": {
   "display_name": "Python 3",
   "language": "python",
   "name": "python3"
  },
  "language_info": {
   "codemirror_mode": {
    "name": "ipython",
    "version": 3
   },
   "file_extension": ".py",
   "mimetype": "text/x-python",
   "name": "python",
   "nbconvert_exporter": "python",
   "pygments_lexer": "ipython3",
   "version": "3.13.7"
  }
 },
 "nbformat": 4,
 "nbformat_minor": 5
}
