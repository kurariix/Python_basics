{
 "cells": [
  {
   "cell_type": "code",
   "execution_count": null,
   "id": "19210232",
   "metadata": {},
   "outputs": [
    {
     "name": "stdout",
     "output_type": "stream",
     "text": [
      "== 1번째 구구단 8단 출력 ==\n",
      "8 * 1 = 8\n",
      "8 * 2 = 16\n",
      "8 * 3 = 24\n",
      "8 * 4 = 32\n",
      "8 * 5 = 40\n",
      "8 * 6 = 48\n",
      "8 * 7 = 56\n",
      "8 * 8 = 64\n",
      "8 * 9 = 72\n"
     ]
    }
   ],
   "source": [
    "# 문제: 함수를 사용해서 코드량을 확 줄여주세요 (개념: 함수)\n",
    "\n",
    "dan = 8\n",
    "\n",
    "def print_8_dan():  # 8단 함수\n",
    "    i = 1\n",
    "    while i <= 9:\n",
    "        print(\"{} * {} = {}\".format(dan, i, dan * i))\n",
    "        i += 1\n",
    "\n",
    "print_8_dan()\n",
    "\n"
   ]
  },
  {
   "cell_type": "code",
   "execution_count": 2,
   "id": "d2c4c3c9",
   "metadata": {},
   "outputs": [
    {
     "name": "stdout",
     "output_type": "stream",
     "text": [
      "== 1단 ==\n",
      "1 * 1 = 1\n",
      "1 * 2 = 2\n",
      "1 * 3 = 3\n",
      "1 * 4 = 4\n",
      "1 * 5 = 5\n",
      "1 * 6 = 6\n",
      "1 * 7 = 7\n",
      "1 * 8 = 8\n",
      "1 * 9 = 9\n",
      "== 2단 ==\n",
      "2 * 1 = 2\n",
      "2 * 2 = 4\n",
      "2 * 3 = 6\n",
      "2 * 4 = 8\n",
      "2 * 5 = 10\n",
      "2 * 6 = 12\n",
      "2 * 7 = 14\n",
      "2 * 8 = 16\n",
      "2 * 9 = 18\n",
      "== 3단 ==\n",
      "3 * 1 = 3\n",
      "3 * 2 = 6\n",
      "3 * 3 = 9\n",
      "3 * 4 = 12\n",
      "3 * 5 = 15\n",
      "3 * 6 = 18\n",
      "3 * 7 = 21\n",
      "3 * 8 = 24\n",
      "3 * 9 = 27\n",
      "== 4단 ==\n",
      "4 * 1 = 4\n",
      "4 * 2 = 8\n",
      "4 * 3 = 12\n",
      "4 * 4 = 16\n",
      "4 * 5 = 20\n",
      "4 * 6 = 24\n",
      "4 * 7 = 28\n",
      "4 * 8 = 32\n",
      "4 * 9 = 36\n",
      "== 5단 ==\n",
      "5 * 1 = 5\n",
      "5 * 2 = 10\n",
      "5 * 3 = 15\n",
      "5 * 4 = 20\n",
      "5 * 5 = 25\n",
      "5 * 6 = 30\n",
      "5 * 7 = 35\n",
      "5 * 8 = 40\n",
      "5 * 9 = 45\n",
      "== 6단 ==\n",
      "6 * 1 = 6\n",
      "6 * 2 = 12\n",
      "6 * 3 = 18\n",
      "6 * 4 = 24\n",
      "6 * 5 = 30\n",
      "6 * 6 = 36\n",
      "6 * 7 = 42\n",
      "6 * 8 = 48\n",
      "6 * 9 = 54\n",
      "== 7단 ==\n",
      "7 * 1 = 7\n",
      "7 * 2 = 14\n",
      "7 * 3 = 21\n",
      "7 * 4 = 28\n",
      "7 * 5 = 35\n",
      "7 * 6 = 42\n",
      "7 * 7 = 49\n",
      "7 * 8 = 56\n",
      "7 * 9 = 63\n",
      "== 8단 ==\n",
      "8 * 1 = 8\n",
      "8 * 2 = 16\n",
      "8 * 3 = 24\n",
      "8 * 4 = 32\n",
      "8 * 5 = 40\n",
      "8 * 6 = 48\n",
      "8 * 7 = 56\n",
      "8 * 8 = 64\n",
      "8 * 9 = 72\n",
      "== 9단 ==\n",
      "9 * 1 = 9\n",
      "9 * 2 = 18\n",
      "9 * 3 = 27\n",
      "9 * 4 = 36\n",
      "9 * 5 = 45\n",
      "9 * 6 = 54\n",
      "9 * 7 = 63\n",
      "9 * 8 = 72\n",
      "9 * 9 = 81\n"
     ]
    }
   ],
   "source": [
    "# 문제: 함수를 사용해서 코드량을 확 줄여주세요 (개념: 함수, 매개변수)\n",
    "\n",
    "def print_n_dan(dan):\n",
    "    print(\"== {}단 ==\".format(dan))\n",
    "    i = 1\n",
    "    while i <= 9:\n",
    "        print(\"{} * {} = {}\".format(dan, i, dan * i))\n",
    "        i += 1 \n",
    "\n",
    "print_n_dan(1)\n",
    "print_n_dan(2)\n",
    "print_n_dan(3)\n",
    "print_n_dan(4)\n",
    "print_n_dan(5)\n",
    "print_n_dan(6)\n",
    "print_n_dan(7)\n",
    "print_n_dan(8)\n",
    "print_n_dan(9)\n"
   ]
  },
  {
   "cell_type": "code",
   "execution_count": 3,
   "id": "ad7d10d7",
   "metadata": {},
   "outputs": [
    {
     "name": "stdout",
     "output_type": "stream",
     "text": [
      "함수 a호출\n",
      "함수 b 호출 1 2 3\n",
      "함수 c 호출 안녕 True 550 600\n"
     ]
    }
   ],
   "source": [
    "# 문제: 매개변수 개수를 맞춰주세요 (개념: 함수, 매개변수)\n",
    "# 조건: 함수호출 시 사용한 인자에 따라 함수를 적절하게 잘 만들어 주세요\n",
    "# 조건: 오류가 나지 않으면 성공입니다\n",
    "\n",
    "def a():\n",
    "    print(\"함수 a호출\")\n",
    "\n",
    "def b(num1, num2, num3):\n",
    "    print(\"함수 b 호출 {} {} {}\".format(num1, num2, num3))\n",
    "\n",
    "def c(str1, b1, n, m):\n",
    "    print(\"함수 c 호출 {} {} {} {}\".format(str1, b1, n, m))\n",
    "\n",
    "a()\n",
    "b(1, 2, 3)\n",
    "c(\"안녕\", 1 == 1, 550, 600)"
   ]
  },
  {
   "cell_type": "code",
   "execution_count": null,
   "id": "98fb5ed2",
   "metadata": {},
   "outputs": [
    {
     "name": "stdout",
     "output_type": "stream",
     "text": [
      "함수 a호출\n",
      "6\n",
      "안녕\n",
      "True\n",
      "1150\n"
     ]
    }
   ],
   "source": [
    "# 문제: 매개변수 개수를 맞춰주세요 (개념: 함수, 매개변수) (정답)\n",
    "# 조건: 함수호출 시 사용한 인자에 따라 함수를 적절하게 잘 만들어 주세요\n",
    "# 조건: 오류가 나지 않으면 성공입니다\n",
    "\n",
    "def a():\n",
    "    print(\"a 함수 호출\")\n",
    "\n",
    "def b(num1, num2, num3):\n",
    "    print(num1 + num2 + num3)\n",
    "\n",
    "def c(str1, bool1, num1, num2):\n",
    "    print(str1)\n",
    "    print(bool1)\n",
    "    print(num1+num2)\n",
    "\n",
    "a()\n",
    "b(1, 2, 3)\n",
    "c(\"안녕\", 1 == 1, 550, 600)"
   ]
  },
  {
   "cell_type": "code",
   "execution_count": 6,
   "id": "d51ee2ea",
   "metadata": {},
   "outputs": [
    {
     "name": "stdout",
     "output_type": "stream",
     "text": [
      "1\n",
      "2\n",
      "4\n",
      "5\n",
      "8\n",
      "10\n",
      "20\n",
      "25\n",
      "40\n",
      "50\n",
      "100\n",
      "125\n",
      "200\n",
      "250\n",
      "500\n",
      "1000\n"
     ]
    }
   ],
   "source": [
    "# 문제: 입력받은 정수의 모든 약수를 출력하는 함수를 구현해주세요 (while, if, %)\n",
    "\n",
    "def print_divisors(num):\n",
    "    i = 1\n",
    "    # 구현\n",
    "    while i <= num:\n",
    "        if num % i == 0:\n",
    "            print(i)\n",
    "        i += 1\n",
    "\n",
    "\n",
    "print_divisors(1000)"
   ]
  }
 ],
 "metadata": {
  "kernelspec": {
   "display_name": "Python 3",
   "language": "python",
   "name": "python3"
  },
  "language_info": {
   "codemirror_mode": {
    "name": "ipython",
    "version": 3
   },
   "file_extension": ".py",
   "mimetype": "text/x-python",
   "name": "python",
   "nbconvert_exporter": "python",
   "pygments_lexer": "ipython3",
   "version": "3.13.7"
  }
 },
 "nbformat": 4,
 "nbformat_minor": 5
}
