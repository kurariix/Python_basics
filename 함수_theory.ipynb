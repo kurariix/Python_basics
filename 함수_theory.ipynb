{
 "cells": [
  {
   "cell_type": "code",
   "execution_count": null,
   "id": "006e43f9",
   "metadata": {},
   "outputs": [],
   "source": [
    "# 함수 (자판기) -> 자주 사용되는 코드를 별도의 독립적인 공간으로 격리시킨 것\n",
    "# 매개변수: 자판기에 있는 데이터 투입구 => 여러 개 가능, 함수 호출할 때 값을 받아온다\n",
    "# 리턴: 자판기에 있는 데이터 배출구\n",
    "\n",
    "print(\"== 1단계(기본 함수, 매개변수 없음) ==\")\n",
    "def print_1_to_10():\n",
    "  i = 1\n",
    "  while i <= 10:\n",
    "    print(i)\n",
    "    i += 1\n",
    "\n",
    "print_1_to_10()\n",
    "\n",
    "print(\"== 2단계(매개변수 1개) ==\")\n",
    "def print_1_to_m(m):    # 매개변수\n",
    "  i = 1\n",
    "  while i <= m:\n",
    "    print(i)\n",
    "    i += 1\n",
    "\n",
    "print_1_to_m(4)\n",
    "\n",
    "print(\"== 3단계(매개변수 2개) ==\")\n",
    "def print_n_to_m(n, m):\n",
    "  i = n\n",
    "  while i <= m:\n",
    "    print(i)\n",
    "    i += 1\n",
    "\n",
    "print_n_to_m(5, 8)  # 인자/인수"
   ]
  }
 ],
 "metadata": {
  "language_info": {
   "name": "python"
  }
 },
 "nbformat": 4,
 "nbformat_minor": 5
}
