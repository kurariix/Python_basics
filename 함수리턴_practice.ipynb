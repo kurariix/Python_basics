{
 "cells": [
  {
   "cell_type": "code",
   "execution_count": 1,
   "id": "b52cdbf3",
   "metadata": {},
   "outputs": [
    {
     "name": "stdout",
     "output_type": "stream",
     "text": [
      "3 더하기 5는 8 입니다\n",
      "3 더하기 5 더하기 7은 15입니다\n",
      "10 빼기 5는 5입니다\n",
      "10 곱하기 5는 50입니다\n",
      "4를 3으로 나눈 나머지는 1입니다\n",
      "4를 3으로 나눈 몫은 1입니다\n",
      "4를 3으로 나눈 결과는 1.3333333333333333입니다\n"
     ]
    }
   ],
   "source": [
    "# 문제: 5칙연산을 수행하는 함수를 만들어주세요 (개념: 함수, 리턴)\n",
    "\n",
    "# plus 함수 구현\n",
    "\n",
    "def plus(a, b):\n",
    "    return a + b\n",
    "print(\"3 더하기 5는 {} 입니다\".format(plus(3, 5)))\n",
    "# 출력 => 3 더하기 5는 8입니다\n",
    "\n",
    "# plus_3_nums 함수 구현\n",
    "\n",
    "def plus_3_nums(a, b, c):\n",
    "    return a + b + c\n",
    "print(\"3 더하기 5 더하기 7은 {}입니다\".format(plus_3_nums(3, 5, 7)))\n",
    "# 출력 => 3 더하기 5 더하기 7은 15입니다\n",
    "\n",
    "# minus 함수 구현\n",
    "\n",
    "def minus(a, b):\n",
    "    return a - b\n",
    "print(\"10 빼기 5는 {}입니다\".format(minus(10, 5)))\n",
    "# 출력 => 10 빼기 5는 5입니다\n",
    "\n",
    "# multiply 함수 구현\n",
    "\n",
    "def multiply(a, b):\n",
    "    return a * b\n",
    "print(\"10 곱하기 5는 {}입니다\".format(multiply(10, 5)))\n",
    "# 출력 => 10 곱하기 5는 50입니다\n",
    "\n",
    "# mod 함수 구현\n",
    "\n",
    "def mod(a, b):\n",
    "    return a % b\n",
    "print(\"4를 3으로 나눈 나머지는 {}입니다\".format(mod(4, 3)))\n",
    "# 출력 => 4를 3으로 나눈 나머지는 1입니다\n",
    "\n",
    "# div 함수 구현\n",
    "\n",
    "def div(a, b):\n",
    "    return a // b\n",
    "print(\"4를 3으로 나눈 몫은 {}입니다\".format(div(4, 3)))\n",
    "# 출력 => 4를 3으로 나눈 몫은 1입니다\n",
    "\n",
    "# div2 함수 구현\n",
    "\n",
    "def div2(a, b):\n",
    "    return a / b\n",
    "print(\"4를 3으로 나눈 결과는 {}입니다\".format(div2(4,3)))\n",
    "# 출력 => 4를 3으로 나눈 몫은 1.333333333333333입니다\n"
   ]
  },
  {
   "cell_type": "code",
   "execution_count": 2,
   "id": "5f2d4212",
   "metadata": {},
   "outputs": [
    {
     "name": "stdout",
     "output_type": "stream",
     "text": [
      "50.0\n",
      "68.0\n",
      "86.0\n"
     ]
    }
   ],
   "source": [
    "# 문제: 온도단위 섭씨를 화씨로 바꿔주는 함수 c_to_f를 구현해주세요\n",
    "# 조건: 공식 = 섭씨온도 * ( 9 / 5 ) + 32 => 화씨온도\n",
    "\n",
    "def c_to_f(c):\n",
    "    f = c * ( 9 / 5) + 32\n",
    "    return f\n",
    "\n",
    "print(c_to_f(10)) # 50.0\n",
    "print(c_to_f(20)) # 68.0\n",
    "print(c_to_f(30)) # 86.0"
   ]
  },
  {
   "cell_type": "code",
   "execution_count": 8,
   "id": "d9201ab5",
   "metadata": {},
   "outputs": [
    {
     "name": "stdout",
     "output_type": "stream",
     "text": [
      "정수 1000의 약수의 합: 93\n"
     ]
    }
   ],
   "source": [
    "# 문제: 입력받은 정수의 모든 약수의 합을 리턴하는 함수를 구현해주세요\n",
    "\n",
    "def get_divisors_sum(num):\n",
    "    s = 0\n",
    "    i = 1\n",
    "    while i <= num:\n",
    "        if num % i == 0:\n",
    "            s += i\n",
    "        i += 1\n",
    "    return s\n",
    "\n",
    "s = get_divisors_sum(50)\n",
    "\n",
    "print(\"정수 1000의 약수의 합: {}\".format(s))\n",
    "# 출력 => 정수 1000의 약수의 합: 2340"
   ]
  },
  {
   "cell_type": "code",
   "execution_count": 7,
   "id": "da920013",
   "metadata": {},
   "outputs": [
    {
     "name": "stdout",
     "output_type": "stream",
     "text": [
      "3은 소수입니다 : True\n",
      "4은 소수입니다 : False\n",
      "5은 소수입니다 : True\n",
      "6은 소수입니다 : False\n",
      "7은 소수입니다 : True\n",
      "1000은 소수입니다 : False\n"
     ]
    }
   ],
   "source": [
    "# 문제: 입력받은 정수가 소수인지 아닌지 알려주는 함수를 구현해주세요 (개념: 함수, 반복문, 리턴)\n",
    "\n",
    "def get_divisors_sum(num):\n",
    "    s = 0\n",
    "    i = 1\n",
    "    while i <= num:\n",
    "        if num % i == 0:\n",
    "            s += i\n",
    "        i += 1\n",
    "    return s\n",
    "\n",
    "def is_prime_number(num):\n",
    "    if num == 1:\n",
    "        return False\n",
    "    i = 2\n",
    "    while i < num:\n",
    "        if num % i == 0:\n",
    "            return False\n",
    "        i += 1\n",
    "\n",
    "    return True\n",
    "\n",
    "def is_prime_number_v2(num):\n",
    "    return get_divisors_sum(num) == num + 1\n",
    "            \n",
    "print(\"3은 소수입니다 : {}\".format(is_prime_number(3)))\n",
    "print(\"4은 소수입니다 : {}\".format(is_prime_number(4)))\n",
    "print(\"5은 소수입니다 : {}\".format(is_prime_number(5)))\n",
    "print(\"6은 소수입니다 : {}\".format(is_prime_number(6)))\n",
    "print(\"7은 소수입니다 : {}\".format(is_prime_number(7)))\n",
    "print(\"1000은 소수입니다 : {}\".format(is_prime_number(1000)))\n"
   ]
  },
  {
   "cell_type": "code",
   "execution_count": 10,
   "id": "90030140",
   "metadata": {},
   "outputs": [
    {
     "name": "stdout",
     "output_type": "stream",
     "text": [
      "1부터 1000사이에 존재하는 소수들의 개수는 16개 입니다\n"
     ]
    }
   ],
   "source": [
    "# 문제: 1부터 1000사이에 존재하는 소수들의 개수를 출력해주세요 (개념: 함수, 반복문, 리턴)\n",
    "\n",
    "def print_prime_number(num):\n",
    "    \n",
    "    i = 2\n",
    "    s = 0\n",
    "    while i < num:\n",
    "        if num % i != 0:\n",
    "            s += 1\n",
    "        i += 1  \n",
    "    return num - s \n",
    "\n",
    "\n",
    "print(\"1부터 1000사이에 존재하는 소수들의 개수는 {}개 입니다\".format(print_prime_number(1000)))\n",
    "    "
   ]
  },
  {
   "cell_type": "code",
   "execution_count": 11,
   "id": "2cb805ea",
   "metadata": {},
   "outputs": [
    {
     "name": "stdout",
     "output_type": "stream",
     "text": [
      "1부터 1000사이에 존재하는 소수들의 개수: 168\n"
     ]
    }
   ],
   "source": [
    "# 문제: 1부터 1000사이에 존재하는 소수들의 개수를 출력해주세요 (정답)\n",
    "\n",
    "def is_prime_number(num):\n",
    "    if num == 1:\n",
    "        return False\n",
    "    \n",
    "    i = 2\n",
    "    while i < num:\n",
    "        if num % i == 0:\n",
    "            return False\n",
    "        i += 1\n",
    "\n",
    "    return True\n",
    "\n",
    "count = 0\n",
    "\n",
    "i = 1\n",
    "\n",
    "while i <= 1000:\n",
    "    if is_prime_number(i):\n",
    "        count += 1\n",
    "    i += 1\n",
    "\n",
    "print(\"1부터 1000사이에 존재하는 소수들의 개수: {}\".format(count))"
   ]
  }
 ],
 "metadata": {
  "kernelspec": {
   "display_name": "Python 3",
   "language": "python",
   "name": "python3"
  },
  "language_info": {
   "codemirror_mode": {
    "name": "ipython",
    "version": 3
   },
   "file_extension": ".py",
   "mimetype": "text/x-python",
   "name": "python",
   "nbconvert_exporter": "python",
   "pygments_lexer": "ipython3",
   "version": "3.13.7"
  }
 },
 "nbformat": 4,
 "nbformat_minor": 5
}
