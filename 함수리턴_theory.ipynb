{
 "cells": [
  {
   "cell_type": "code",
   "execution_count": null,
   "id": "69b8d383",
   "metadata": {},
   "outputs": [],
   "source": [
    "# 함수의 리턴\n",
    "# 함수의 데이터 배출구  => 호출 했을 때 리턴값이 고스란히 나간다\n",
    "# 이게 실행되면 그 즉시 종료\n",
    "# 함수는 어떤 값을 갖고 있을 땐 변수에 넣을 수 있다"
   ]
  },
  {
   "cell_type": "code",
   "execution_count": 1,
   "id": "0ff685b8",
   "metadata": {},
   "outputs": [
    {
     "name": "stdout",
     "output_type": "stream",
     "text": [
      "k : 30\n"
     ]
    }
   ],
   "source": [
    "# 개념: 함수의 리턴\n",
    "\n",
    "def plus(a, b):\n",
    "    return a + b\n",
    "\n",
    "k = plus(10, 20)\n",
    "print(\"k : {}\".format(k))"
   ]
  }
 ],
 "metadata": {
  "kernelspec": {
   "display_name": "Python 3",
   "language": "python",
   "name": "python3"
  },
  "language_info": {
   "codemirror_mode": {
    "name": "ipython",
    "version": 3
   },
   "file_extension": ".py",
   "mimetype": "text/x-python",
   "name": "python",
   "nbconvert_exporter": "python",
   "pygments_lexer": "ipython3",
   "version": "3.13.7"
  }
 },
 "nbformat": 4,
 "nbformat_minor": 5
}
